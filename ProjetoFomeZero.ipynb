{
 "cells": [
  {
   "attachments": {},
   "cell_type": "markdown",
   "metadata": {},
   "source": [
    "--------------------------------------------------------------------------------\n",
    "COMUNIDADE DATA SCIENCE - CDS\n",
    "\n",
    "PROGRAMA DE ENSINO DATA FORMATION\n",
    "\n",
    "CURSO: FTC - ANALISANDO DADOS COM PYTHON\n",
    "\n",
    "Projeto do Aluno - DASHBOARD DO CASO 'EMPRESA FOME ZERO'\n",
    "\n",
    "Aluno: Manoel L. M. Mendonça\n",
    "\n",
    "Junho-2023\n",
    "\n",
    "--------------------------------------------------------------------------------"
   ]
  },
  {
   "attachments": {},
   "cell_type": "markdown",
   "metadata": {},
   "source": [
    "# 0. INITIAL HOUSEKEEPING"
   ]
  },
  {
   "attachments": {},
   "cell_type": "markdown",
   "metadata": {},
   "source": [
    "## 0.1. Importing Libraries"
   ]
  },
  {
   "cell_type": "code",
   "execution_count": 1,
   "metadata": {},
   "outputs": [],
   "source": [
    "# STEP-ZERO.zero: IMPORTING LIBRARIES\n",
    "import pandas as pd\n",
    "import numpy as np\n",
    "from haversine import haversine\n",
    "import plotly.express as px\n",
    "import plotly.graph_objects as go\n",
    "import inflection\n",
    "import folium\n",
    "from streamlit_folium import folium_static\n"
   ]
  },
  {
   "attachments": {},
   "cell_type": "markdown",
   "metadata": {},
   "source": [
    "## 0.2. Code kindly supplied in the assignment"
   ]
  },
  {
   "cell_type": "code",
   "execution_count": 2,
   "metadata": {},
   "outputs": [],
   "source": [
    "# CODE supplied in the assignment statement\n",
    "COUNTRIES = {\n",
    "    1: \"India\",\n",
    "    14: \"Australia\",\n",
    "    30: \"Brazil\",\n",
    "    37: \"Canada\",\n",
    "    94: \"Indonesia\",\n",
    "    148: \"New Zealand\",\n",
    "    162: \"Philippines\",\n",
    "    166: \"Qatar\",\n",
    "    184: \"Singapure\",\n",
    "    189: \"South Africa\",\n",
    "    191: \"Sri Lanka\",\n",
    "    208: \"Turkey\",\n",
    "    214: \"United Arab Emirates\",\n",
    "    215: \"England\",\n",
    "    216: \"United States of America\",\n",
    "}\n",
    "\n",
    "def country_name(country_id):\n",
    "    return COUNTRIES[country_id]\n",
    "\n",
    "def create_price_tye(price_range):\n",
    "    if price_range == 1:\n",
    "        return \"cheap\"\n",
    "    elif price_range == 2:\n",
    "        return \"normal\"\n",
    "    elif price_range == 3:\n",
    "        return \"expensive\"\n",
    "    else:\n",
    "        return \"gourmet\"\n",
    "    \n",
    "COLORS = {\n",
    "    \"3F7E00\": \"darkgreen\",\n",
    "    \"5BA829\": \"green\",\n",
    "    \"9ACD32\": \"lightgreen\",\n",
    "    \"CDD614\": \"orange\",\n",
    "    \"FFBA00\": \"red\",\n",
    "    \"CBCBC8\": \"darkred\",\n",
    "    \"FF7800\": \"darkred\",\n",
    "}\n",
    "\n",
    "def color_name(color_code):\n",
    "    return COLORS[color_code]\n"
   ]
  },
  {
   "attachments": {},
   "cell_type": "markdown",
   "metadata": {},
   "source": [
    "## 0.3. Database Structure - Statistical Table"
   ]
  },
  {
   "cell_type": "code",
   "execution_count": null,
   "metadata": {},
   "outputs": [],
   "source": [
    "# DATABASE COLUMNS:\n",
    "#   Restaurant ID . . . : numeric (int64). OOPS: Some restaurants are repeated\n",
    "#   Restaurant Name . . : string. Need: strip\n",
    "#   Country Code  . . . : numeric (int64), 15 distinct values\n",
    "#   City  . . . . . . . : string\n",
    "#   Address . . . . . . : string\n",
    "#   Locality. . . . . . : string. Need: strip\n",
    "#   Locality Verbose. . : string. Need: strip\n",
    "#   Longitude . . . . . : float\n",
    "#   Latitude  . . . . . : float\n",
    "#   Cuisines  . . . . . : string, with nan occurrences\n",
    "#   Average Cost for two: int. Question: in which currency??\n",
    "#   Currency  . . . . . : string\n",
    "#   Has Table booking   : int, values = [ 0, 1 ]\n",
    "#   Has Online delivery : int, values = [ 0, 1 ]\n",
    "#   Is delivering now   : int, values = [ 0, 1 ]\n",
    "#   Switch to order menu: int, value = [ 0 ]  -->> No need. Exclude !!\n",
    "#   Price range . . . . : int, values = [ 1, 2, 3, 4 ]\n",
    "#   Aggregate rating. . : float, values = [ 0. , ..., 4.9 ]\n",
    "#   Rating color. . . . : string. Ex: '9ACD32', 'CBCBC8'\n",
    "#   Rating text . . . . : string.\n",
    "#   Votes . . . . . . . : int. From 0 to 41333."
   ]
  },
  {
   "attachments": {},
   "cell_type": "markdown",
   "metadata": {},
   "source": [
    "## 0.4. Database Cleansing Class"
   ]
  },
  {
   "cell_type": "code",
   "execution_count": 3,
   "metadata": {},
   "outputs": [],
   "source": [
    "#-------------------------------------------------------------------------------\n",
    "#\n",
    "# DATABASE CLEANSING CLASS\n",
    "#                                                           mlmm in 19-june-2023\n",
    "#-------------------------------------------------------------------------------\n",
    "\n",
    "class DataBaseCleansing():\n",
    "\n",
    "    #---------------------------------------------------------------------------\n",
    "    # CONSTRUCTOR\n",
    "    #---------------------------------------------------------------------------\n",
    "    def __init__(self) -> None:\n",
    "        self.dtframe = None\n",
    "        return\n",
    "    \n",
    "    def __init__(self, inDataframe) -> None:\n",
    "        self.dtframe = inDataframe.copy()\n",
    "        return\n",
    "    \n",
    "    #---------------------------------------------------------------------------\n",
    "    def LoadDataframe(self, inDataframe) -> None:\n",
    "        self.dtframe = inDataframe.copy()\n",
    "        return\n",
    "\n",
    "    #---------------------------------------------------------------------------\n",
    "    # Perform the main general cleansing operations\n",
    "    #---------------------------------------------------------------------------\n",
    "    def GeneralCleansing(self) -> pd.core.frame.DataFrame:\n",
    "\n",
    "        # First op: rename columns\n",
    "        self.rename_columns()\n",
    "\n",
    "        # Remove duplicated restaurant regs\n",
    "        self.dtframe.drop_duplicates(subset=['restaurant_id'], inplace=True)\n",
    "\n",
    "        # Remove 'switch_to_order_menu' column: not needed\n",
    "        self.dtframe.drop( columns=['switch_to_order_menu'] )\n",
    "\n",
    "        # Eliminate white spaces at beginning & ending\n",
    "        self.StripColumns()\n",
    "\n",
    "        # Create 'UniqueCuisine' column\n",
    "        self.CreateUniqueCuisine()\n",
    "\n",
    "        return self.dtframe\n",
    "\n",
    "    #---------------------------------------------------------------------------\n",
    "    # Adjust column names, extract white spaces, etc\n",
    "    #---------------------------------------------------------------------------\n",
    "    def rename_columns( self ) -> pd.core.frame.DataFrame:\n",
    "    \n",
    "        # Kindly offered by the teacher :)\n",
    "        title = lambda x: inflection.titleize(x)\n",
    "        snakecase = lambda x: inflection.underscore(x)\n",
    "        spaces = lambda x: x.replace(\" \", \"\")\n",
    "        cols_old = list(self.dtframe.columns)\n",
    "        cols_old = list(map(title, cols_old))\n",
    "        cols_old = list(map(spaces, cols_old))\n",
    "        cols_new = list(map(snakecase, cols_old))\n",
    "        self.dtframe.columns = cols_new\n",
    "\n",
    "        # create 'country_name' column\n",
    "        self.dtframe['country_name'] = ( self.dtframe.loc[:, 'country_code']\n",
    "                                             .apply(lambda x: country_name(x)) )\n",
    "\n",
    "        return self.dtframe\n",
    "\n",
    "    #---------------------------------------------------------------------------\n",
    "    # Apply strip() command to some columns.\n",
    "    #---------------------------------------------------------------------------\n",
    "    def StripColumns(self) -> None:\n",
    "        self.dtframe['restaurant_name'] = self.dtframe['restaurant_name'].str.strip()\n",
    "        self.dtframe['city'] = self.dtframe['city'].str.strip()\n",
    "        self.dtframe['locality'] = self.dtframe['locality'].str.strip()\n",
    "        self.dtframe['locality_verbose'] = self.dtframe['locality_verbose'].str.strip()\n",
    "        return\n",
    "\n",
    "    #---------------------------------------------------------------------------\n",
    "    # Create column to receive the first type of Cuisine shown in 'Cuisines' column\n",
    "    #---------------------------------------------------------------------------\n",
    "    #\n",
    "    # When running command [ dbc.dtframe.isna().sum() ] to discover number of NAN's...\n",
    "    # ...we noticed that 'Cuisines' column has 13. Other columns do not have it.\n",
    "    # Solution: when 'Cuisines' = nan, make 'UniqueCuisine' = \"\"\n",
    "    #\n",
    "    def CreateUniqueCuisine(self) -> None:\n",
    "        self.dtframe['unique_cuisine'] = ( self.dtframe.loc[:, 'cuisines']\n",
    "                                  .apply(lambda x: x.split(\",\")[0] if isinstance(x, str) else \"\") )\n",
    "        return\n"
   ]
  },
  {
   "attachments": {},
   "cell_type": "markdown",
   "metadata": {},
   "source": [
    "## 0.5. Import Database"
   ]
  },
  {
   "cell_type": "code",
   "execution_count": 4,
   "metadata": {},
   "outputs": [
    {
     "data": {
      "text/html": [
       "<div>\n",
       "<style scoped>\n",
       "    .dataframe tbody tr th:only-of-type {\n",
       "        vertical-align: middle;\n",
       "    }\n",
       "\n",
       "    .dataframe tbody tr th {\n",
       "        vertical-align: top;\n",
       "    }\n",
       "\n",
       "    .dataframe thead th {\n",
       "        text-align: right;\n",
       "    }\n",
       "</style>\n",
       "<table border=\"1\" class=\"dataframe\">\n",
       "  <thead>\n",
       "    <tr style=\"text-align: right;\">\n",
       "      <th></th>\n",
       "      <th>Restaurant ID</th>\n",
       "      <th>Restaurant Name</th>\n",
       "      <th>Country Code</th>\n",
       "      <th>City</th>\n",
       "      <th>Address</th>\n",
       "      <th>Locality</th>\n",
       "      <th>Locality Verbose</th>\n",
       "      <th>Longitude</th>\n",
       "      <th>Latitude</th>\n",
       "      <th>Cuisines</th>\n",
       "      <th>...</th>\n",
       "      <th>Currency</th>\n",
       "      <th>Has Table booking</th>\n",
       "      <th>Has Online delivery</th>\n",
       "      <th>Is delivering now</th>\n",
       "      <th>Switch to order menu</th>\n",
       "      <th>Price range</th>\n",
       "      <th>Aggregate rating</th>\n",
       "      <th>Rating color</th>\n",
       "      <th>Rating text</th>\n",
       "      <th>Votes</th>\n",
       "    </tr>\n",
       "  </thead>\n",
       "  <tbody>\n",
       "    <tr>\n",
       "      <th>0</th>\n",
       "      <td>6310675</td>\n",
       "      <td>Mama Lou's Italian Kitchen</td>\n",
       "      <td>162</td>\n",
       "      <td>Las Piñas City</td>\n",
       "      <td>Block 1, Lot 36, Tropical Avenue Corner Tropic...</td>\n",
       "      <td>BF International</td>\n",
       "      <td>BF International, Las Piñas City</td>\n",
       "      <td>121.009787</td>\n",
       "      <td>14.447615</td>\n",
       "      <td>Italian</td>\n",
       "      <td>...</td>\n",
       "      <td>Botswana Pula(P)</td>\n",
       "      <td>1</td>\n",
       "      <td>0</td>\n",
       "      <td>0</td>\n",
       "      <td>0</td>\n",
       "      <td>3</td>\n",
       "      <td>4.6</td>\n",
       "      <td>3F7E00</td>\n",
       "      <td>Excellent</td>\n",
       "      <td>619</td>\n",
       "    </tr>\n",
       "    <tr>\n",
       "      <th>1</th>\n",
       "      <td>6310675</td>\n",
       "      <td>Mama Lou's Italian Kitchen</td>\n",
       "      <td>162</td>\n",
       "      <td>Las Piñas City</td>\n",
       "      <td>Block 1, Lot 36, Tropical Avenue Corner Tropic...</td>\n",
       "      <td>BF International</td>\n",
       "      <td>BF International, Las Piñas City</td>\n",
       "      <td>121.009787</td>\n",
       "      <td>14.447615</td>\n",
       "      <td>Italian</td>\n",
       "      <td>...</td>\n",
       "      <td>Botswana Pula(P)</td>\n",
       "      <td>1</td>\n",
       "      <td>0</td>\n",
       "      <td>0</td>\n",
       "      <td>0</td>\n",
       "      <td>3</td>\n",
       "      <td>4.6</td>\n",
       "      <td>3F7E00</td>\n",
       "      <td>Excellent</td>\n",
       "      <td>619</td>\n",
       "    </tr>\n",
       "  </tbody>\n",
       "</table>\n",
       "<p>2 rows × 21 columns</p>\n",
       "</div>"
      ],
      "text/plain": [
       "   Restaurant ID             Restaurant Name  Country Code            City  \\\n",
       "0        6310675  Mama Lou's Italian Kitchen           162  Las Piñas City   \n",
       "1        6310675  Mama Lou's Italian Kitchen           162  Las Piñas City   \n",
       "\n",
       "                                             Address          Locality  \\\n",
       "0  Block 1, Lot 36, Tropical Avenue Corner Tropic...  BF International   \n",
       "1  Block 1, Lot 36, Tropical Avenue Corner Tropic...  BF International   \n",
       "\n",
       "                   Locality Verbose   Longitude   Latitude Cuisines  ...  \\\n",
       "0  BF International, Las Piñas City  121.009787  14.447615  Italian  ...   \n",
       "1  BF International, Las Piñas City  121.009787  14.447615  Italian  ...   \n",
       "\n",
       "           Currency Has Table booking  Has Online delivery  Is delivering now  \\\n",
       "0  Botswana Pula(P)                 1                    0                  0   \n",
       "1  Botswana Pula(P)                 1                    0                  0   \n",
       "\n",
       "   Switch to order menu  Price range  Aggregate rating  Rating color  \\\n",
       "0                     0            3               4.6        3F7E00   \n",
       "1                     0            3               4.6        3F7E00   \n",
       "\n",
       "  Rating text Votes  \n",
       "0   Excellent   619  \n",
       "1   Excellent   619  \n",
       "\n",
       "[2 rows x 21 columns]"
      ]
     },
     "execution_count": 4,
     "metadata": {},
     "output_type": "execute_result"
    }
   ],
   "source": [
    "#\n",
    "# STEP-ZERO.one: IMPORTING DATABASE\n",
    "#\n",
    "# Previous internal company dashboard:\n",
    "#     https://pedroferraresi-ftc-analise-python-01--main-page-ozp460.streamlit.app/\n",
    "# Database Source:\n",
    "#     https://www.kaggle.com/datasets/akashram/zomato-restaurants-autoupdated-dataset?resource=download&select=zomato.csv\n",
    "# Read CSV data at:\n",
    "#     http://menezes.mendonca.nom.br/datasets/zomato.csv\n",
    "#\n",
    "df = pd.read_csv( 'http://menezes.mendonca.nom.br/datasets/zomato.csv' )\n",
    "df.head(2)"
   ]
  },
  {
   "attachments": {},
   "cell_type": "markdown",
   "metadata": {},
   "source": [
    "## 0.6. Clean Data"
   ]
  },
  {
   "cell_type": "code",
   "execution_count": 5,
   "metadata": {},
   "outputs": [
    {
     "data": {
      "text/html": [
       "<div>\n",
       "<style scoped>\n",
       "    .dataframe tbody tr th:only-of-type {\n",
       "        vertical-align: middle;\n",
       "    }\n",
       "\n",
       "    .dataframe tbody tr th {\n",
       "        vertical-align: top;\n",
       "    }\n",
       "\n",
       "    .dataframe thead th {\n",
       "        text-align: right;\n",
       "    }\n",
       "</style>\n",
       "<table border=\"1\" class=\"dataframe\">\n",
       "  <thead>\n",
       "    <tr style=\"text-align: right;\">\n",
       "      <th></th>\n",
       "      <th>restaurant_id</th>\n",
       "      <th>restaurant_name</th>\n",
       "      <th>country_code</th>\n",
       "      <th>city</th>\n",
       "      <th>address</th>\n",
       "      <th>locality</th>\n",
       "      <th>locality_verbose</th>\n",
       "      <th>longitude</th>\n",
       "      <th>latitude</th>\n",
       "      <th>cuisines</th>\n",
       "      <th>...</th>\n",
       "      <th>has_online_delivery</th>\n",
       "      <th>is_delivering_now</th>\n",
       "      <th>switch_to_order_menu</th>\n",
       "      <th>price_range</th>\n",
       "      <th>aggregate_rating</th>\n",
       "      <th>rating_color</th>\n",
       "      <th>rating_text</th>\n",
       "      <th>votes</th>\n",
       "      <th>country_name</th>\n",
       "      <th>unique_cuisine</th>\n",
       "    </tr>\n",
       "  </thead>\n",
       "  <tbody>\n",
       "    <tr>\n",
       "      <th>0</th>\n",
       "      <td>6310675</td>\n",
       "      <td>Mama Lou's Italian Kitchen</td>\n",
       "      <td>162</td>\n",
       "      <td>Las Piñas City</td>\n",
       "      <td>Block 1, Lot 36, Tropical Avenue Corner Tropic...</td>\n",
       "      <td>BF International</td>\n",
       "      <td>BF International, Las Piñas City</td>\n",
       "      <td>121.009787</td>\n",
       "      <td>14.447615</td>\n",
       "      <td>Italian</td>\n",
       "      <td>...</td>\n",
       "      <td>0</td>\n",
       "      <td>0</td>\n",
       "      <td>0</td>\n",
       "      <td>3</td>\n",
       "      <td>4.6</td>\n",
       "      <td>3F7E00</td>\n",
       "      <td>Excellent</td>\n",
       "      <td>619</td>\n",
       "      <td>Philippines</td>\n",
       "      <td>Italian</td>\n",
       "    </tr>\n",
       "    <tr>\n",
       "      <th>2</th>\n",
       "      <td>6314542</td>\n",
       "      <td>Blackbird</td>\n",
       "      <td>162</td>\n",
       "      <td>Makati City</td>\n",
       "      <td>Nielson Tower, Ayala Triangle Gardens, Salcedo...</td>\n",
       "      <td>Ayala Triangle Gardens, Salcedo Village, Makat...</td>\n",
       "      <td>Ayala Triangle Gardens, Salcedo Village, Makat...</td>\n",
       "      <td>121.024562</td>\n",
       "      <td>14.556042</td>\n",
       "      <td>European, Asian</td>\n",
       "      <td>...</td>\n",
       "      <td>0</td>\n",
       "      <td>0</td>\n",
       "      <td>0</td>\n",
       "      <td>4</td>\n",
       "      <td>4.7</td>\n",
       "      <td>3F7E00</td>\n",
       "      <td>Excellent</td>\n",
       "      <td>469</td>\n",
       "      <td>Philippines</td>\n",
       "      <td>European</td>\n",
       "    </tr>\n",
       "  </tbody>\n",
       "</table>\n",
       "<p>2 rows × 23 columns</p>\n",
       "</div>"
      ],
      "text/plain": [
       "   restaurant_id             restaurant_name  country_code            city  \\\n",
       "0        6310675  Mama Lou's Italian Kitchen           162  Las Piñas City   \n",
       "2        6314542                   Blackbird           162     Makati City   \n",
       "\n",
       "                                             address  \\\n",
       "0  Block 1, Lot 36, Tropical Avenue Corner Tropic...   \n",
       "2  Nielson Tower, Ayala Triangle Gardens, Salcedo...   \n",
       "\n",
       "                                            locality  \\\n",
       "0                                   BF International   \n",
       "2  Ayala Triangle Gardens, Salcedo Village, Makat...   \n",
       "\n",
       "                                    locality_verbose   longitude   latitude  \\\n",
       "0                   BF International, Las Piñas City  121.009787  14.447615   \n",
       "2  Ayala Triangle Gardens, Salcedo Village, Makat...  121.024562  14.556042   \n",
       "\n",
       "          cuisines  ...  has_online_delivery is_delivering_now  \\\n",
       "0          Italian  ...                    0                 0   \n",
       "2  European, Asian  ...                    0                 0   \n",
       "\n",
       "   switch_to_order_menu  price_range  aggregate_rating  rating_color  \\\n",
       "0                     0            3               4.6        3F7E00   \n",
       "2                     0            4               4.7        3F7E00   \n",
       "\n",
       "   rating_text  votes country_name unique_cuisine  \n",
       "0    Excellent    619  Philippines        Italian  \n",
       "2    Excellent    469  Philippines       European  \n",
       "\n",
       "[2 rows x 23 columns]"
      ]
     },
     "execution_count": 5,
     "metadata": {},
     "output_type": "execute_result"
    }
   ],
   "source": [
    "#\n",
    "# STEP-ZERO.two: VERIFYING & CLEANSING DATABASE\n",
    "#\n",
    "dbc = DataBaseCleansing(df)\n",
    "df1 = dbc.GeneralCleansing()\n",
    "df1.head(2)"
   ]
  },
  {
   "attachments": {},
   "cell_type": "markdown",
   "metadata": {},
   "source": [
    "# 1. VISÃO GERAL (ok)"
   ]
  },
  {
   "attachments": {},
   "cell_type": "markdown",
   "metadata": {},
   "source": [
    "## 1.1. Quantos restaurantes únicos estão registrados?"
   ]
  },
  {
   "cell_type": "code",
   "execution_count": 10,
   "metadata": {},
   "outputs": [
    {
     "name": "stdout",
     "output_type": "stream",
     "text": [
      "Quantidade de restaurantes únicos = 5904\n"
     ]
    }
   ],
   "source": [
    "print(f\"Quantidade de restaurantes únicos = {len( df1['restaurant_name'].unique() )}\")"
   ]
  },
  {
   "attachments": {},
   "cell_type": "markdown",
   "metadata": {},
   "source": [
    "## 1.2. Quantos países únicos estão registrados?"
   ]
  },
  {
   "cell_type": "code",
   "execution_count": 11,
   "metadata": {},
   "outputs": [
    {
     "name": "stdout",
     "output_type": "stream",
     "text": [
      "Quantidade de países = 15\n"
     ]
    }
   ],
   "source": [
    "print(f\"Quantidade de países = {len( df1['country_code'].unique() )}\")"
   ]
  },
  {
   "cell_type": "code",
   "execution_count": 19,
   "metadata": {},
   "outputs": [
    {
     "data": {
      "text/plain": [
       "['Australia',\n",
       " 'Brazil',\n",
       " 'Canada',\n",
       " 'England',\n",
       " 'India',\n",
       " 'Indonesia',\n",
       " 'New Zealand',\n",
       " 'Philippines',\n",
       " 'Qatar',\n",
       " 'Singapure',\n",
       " 'South Africa',\n",
       " 'Sri Lanka',\n",
       " 'Turkey',\n",
       " 'United Arab Emirates',\n",
       " 'United States of America']"
      ]
     },
     "execution_count": 19,
     "metadata": {},
     "output_type": "execute_result"
    }
   ],
   "source": [
    "# lista de nomes de países na base de dados\n",
    "df2 = df1['country_name'].unique().tolist()\n",
    "df3 = sorted(df2)\n",
    "df3"
   ]
  },
  {
   "attachments": {},
   "cell_type": "markdown",
   "metadata": {},
   "source": [
    "## 1.3. Quantas cidades únicas estão registradas?"
   ]
  },
  {
   "cell_type": "code",
   "execution_count": 13,
   "metadata": {},
   "outputs": [
    {
     "name": "stdout",
     "output_type": "stream",
     "text": [
      "Quantidade de cidades = 125\n"
     ]
    }
   ],
   "source": [
    "print(f\"Quantidade de cidades = {len( df1['city'].unique() )}\")"
   ]
  },
  {
   "attachments": {},
   "cell_type": "markdown",
   "metadata": {},
   "source": [
    "## 1.4. Qual o total de avaliações feitas?"
   ]
  },
  {
   "cell_type": "code",
   "execution_count": 24,
   "metadata": {},
   "outputs": [
    {
     "data": {
      "text/plain": [
       "4195634"
      ]
     },
     "execution_count": 24,
     "metadata": {},
     "output_type": "execute_result"
    }
   ],
   "source": [
    "# Move 'votes' to a series and sum it up\n",
    "df2 = df1['votes']\n",
    "Total_of_evaluations = df2.sum()\n",
    "Total_of_evaluations"
   ]
  },
  {
   "attachments": {},
   "cell_type": "markdown",
   "metadata": {},
   "source": [
    "## 1.5. Qual o total de tipos de culinária registrados?"
   ]
  },
  {
   "cell_type": "code",
   "execution_count": 17,
   "metadata": {},
   "outputs": [
    {
     "name": "stdout",
     "output_type": "stream",
     "text": [
      "Quantidade de culinárias = 166\n"
     ]
    }
   ],
   "source": [
    "print(f\"Quantidade de culinárias = {len( df1['unique_cuisine'].unique() )}\")\n",
    "\n",
    "# OBSERVAÇAO: fizemos usando apenas a primeira culinária de cada restaurante.\n",
    "#             Mas pode haver alguma culinária nova escondida da 2ª prá traz..."
   ]
  },
  {
   "attachments": {},
   "cell_type": "markdown",
   "metadata": {},
   "source": [
    "## extra 1.6. Informações para montagem do MAPA MUNDI"
   ]
  },
  {
   "cell_type": "code",
   "execution_count": 18,
   "metadata": {},
   "outputs": [
    {
     "data": {
      "text/plain": [
       "Index(['restaurant_id', 'restaurant_name', 'country_code', 'city', 'address',\n",
       "       'locality', 'locality_verbose', 'longitude', 'latitude', 'cuisines',\n",
       "       'average_cost_for_two', 'currency', 'has_table_booking',\n",
       "       'has_online_delivery', 'is_delivering_now', 'switch_to_order_menu',\n",
       "       'price_range', 'aggregate_rating', 'rating_color', 'rating_text',\n",
       "       'votes', 'country_name', 'unique_cuisine'],\n",
       "      dtype='object')"
      ]
     },
     "execution_count": 18,
     "metadata": {},
     "output_type": "execute_result"
    }
   ],
   "source": [
    "# Refazendo o Global Map\n",
    "colunas = ['city','aggregate_rating','latitude','longitude']\n",
    "df2 = df1.loc[: ,colunas]\n",
    "df3 = ( df2.loc[:,:].groupby(['city','aggregate_rating'])\n",
    "                    .median()\n",
    "                    .reset_index() )\n",
    "# Desenhar MAPA\n",
    "CityMap = folium.Map( zoom_start=11 )\n",
    "\n",
    "for index, location_info in df3.iterrows():\n",
    "    # Insere, um por um, os pinos no mapa.\n",
    "    folium.Marker( [location_info['latitude'],\n",
    "                    location_info['longitude']],\n",
    "                    popup=location_info[['city','aggregate_rating']] ).add_to(CityMap)\n",
    "folium_static( CityMap, width=1024, height=600 )\n",
    "\n",
    "df1.columns"
   ]
  },
  {
   "cell_type": "code",
   "execution_count": 19,
   "metadata": {},
   "outputs": [
    {
     "data": {
      "text/plain": [
       "array(['3F7E00', '5BA829', '9ACD32', 'CDD614', 'FFBA00', 'CBCBC8',\n",
       "       'FF7800'], dtype=object)"
      ]
     },
     "execution_count": 19,
     "metadata": {},
     "output_type": "execute_result"
    }
   ],
   "source": [
    "df1['rating_color'].unique()"
   ]
  },
  {
   "attachments": {},
   "cell_type": "markdown",
   "metadata": {},
   "source": [
    "# 2. VISÃO PAÍS (ok)"
   ]
  },
  {
   "attachments": {},
   "cell_type": "markdown",
   "metadata": {},
   "source": [
    "## 2.1. Qual o nome do país que possui mais cidades registradas?"
   ]
  },
  {
   "cell_type": "code",
   "execution_count": 9,
   "metadata": {},
   "outputs": [
    {
     "name": "stdout",
     "output_type": "stream",
     "text": [
      "O país com mais cidades é: India\n"
     ]
    },
    {
     "data": {
      "text/html": [
       "<div>\n",
       "<style scoped>\n",
       "    .dataframe tbody tr th:only-of-type {\n",
       "        vertical-align: middle;\n",
       "    }\n",
       "\n",
       "    .dataframe tbody tr th {\n",
       "        vertical-align: top;\n",
       "    }\n",
       "\n",
       "    .dataframe thead th {\n",
       "        text-align: right;\n",
       "    }\n",
       "</style>\n",
       "<table border=\"1\" class=\"dataframe\">\n",
       "  <thead>\n",
       "    <tr style=\"text-align: right;\">\n",
       "      <th></th>\n",
       "      <th>country_name</th>\n",
       "      <th>city</th>\n",
       "    </tr>\n",
       "  </thead>\n",
       "  <tbody>\n",
       "    <tr>\n",
       "      <th>0</th>\n",
       "      <td>India</td>\n",
       "      <td>3120</td>\n",
       "    </tr>\n",
       "    <tr>\n",
       "      <th>1</th>\n",
       "      <td>United States of America</td>\n",
       "      <td>1378</td>\n",
       "    </tr>\n",
       "    <tr>\n",
       "      <th>2</th>\n",
       "      <td>England</td>\n",
       "      <td>400</td>\n",
       "    </tr>\n",
       "    <tr>\n",
       "      <th>3</th>\n",
       "      <td>South Africa</td>\n",
       "      <td>346</td>\n",
       "    </tr>\n",
       "    <tr>\n",
       "      <th>4</th>\n",
       "      <td>United Arab Emirates</td>\n",
       "      <td>300</td>\n",
       "    </tr>\n",
       "    <tr>\n",
       "      <th>5</th>\n",
       "      <td>Brazil</td>\n",
       "      <td>240</td>\n",
       "    </tr>\n",
       "    <tr>\n",
       "      <th>6</th>\n",
       "      <td>New Zealand</td>\n",
       "      <td>239</td>\n",
       "    </tr>\n",
       "    <tr>\n",
       "      <th>7</th>\n",
       "      <td>Australia</td>\n",
       "      <td>180</td>\n",
       "    </tr>\n",
       "    <tr>\n",
       "      <th>8</th>\n",
       "      <td>Canada</td>\n",
       "      <td>180</td>\n",
       "    </tr>\n",
       "    <tr>\n",
       "      <th>9</th>\n",
       "      <td>Turkey</td>\n",
       "      <td>159</td>\n",
       "    </tr>\n",
       "    <tr>\n",
       "      <th>10</th>\n",
       "      <td>Indonesia</td>\n",
       "      <td>80</td>\n",
       "    </tr>\n",
       "    <tr>\n",
       "      <th>11</th>\n",
       "      <td>Philippines</td>\n",
       "      <td>80</td>\n",
       "    </tr>\n",
       "    <tr>\n",
       "      <th>12</th>\n",
       "      <td>Qatar</td>\n",
       "      <td>80</td>\n",
       "    </tr>\n",
       "    <tr>\n",
       "      <th>13</th>\n",
       "      <td>Singapure</td>\n",
       "      <td>80</td>\n",
       "    </tr>\n",
       "    <tr>\n",
       "      <th>14</th>\n",
       "      <td>Sri Lanka</td>\n",
       "      <td>80</td>\n",
       "    </tr>\n",
       "  </tbody>\n",
       "</table>\n",
       "</div>"
      ],
      "text/plain": [
       "                country_name  city\n",
       "0                      India  3120\n",
       "1   United States of America  1378\n",
       "2                    England   400\n",
       "3               South Africa   346\n",
       "4       United Arab Emirates   300\n",
       "5                     Brazil   240\n",
       "6                New Zealand   239\n",
       "7                  Australia   180\n",
       "8                     Canada   180\n",
       "9                     Turkey   159\n",
       "10                 Indonesia    80\n",
       "11               Philippines    80\n",
       "12                     Qatar    80\n",
       "13                 Singapure    80\n",
       "14                 Sri Lanka    80"
      ]
     },
     "execution_count": 9,
     "metadata": {},
     "output_type": "execute_result"
    }
   ],
   "source": [
    "colunas = ['country_name','city']\n",
    "df2 = ( df1.loc[:, colunas]\n",
    "           .groupby('country_name').count()\n",
    "           .sort_values(by=['city'], ascending=False)\n",
    "           .reset_index() )\n",
    "\n",
    "Country_with_More_Cities = df2.loc[0, 'country_name']\n",
    "\n",
    "print(f\"O país com mais cidades é: {Country_with_More_Cities}\")\n",
    "df2"
   ]
  },
  {
   "cell_type": "code",
   "execution_count": 11,
   "metadata": {},
   "outputs": [
    {
     "data": {
      "text/plain": [
       "['India',\n",
       " 'United States of America',\n",
       " 'England',\n",
       " 'South Africa',\n",
       " 'United Arab Emirates',\n",
       " 'Brazil']"
      ]
     },
     "execution_count": 11,
     "metadata": {},
     "output_type": "execute_result"
    }
   ],
   "source": [
    "# Listar os primeiros 6 países com mais restaurantes?\n",
    "colunas = ['country_name','restaurant_id']\n",
    "df2 = ( df1.loc[:, colunas]\n",
    "           .groupby('country_name').count()\n",
    "           .sort_values(by=['restaurant_id'], ascending=False)\n",
    "           .reset_index() )\n",
    "\n",
    "Country_with_More_Rests = df2.loc[0:5, 'country_name']\n",
    "df3 = Country_with_More_Rests.tolist()\n",
    "df3"
   ]
  },
  {
   "cell_type": "code",
   "execution_count": 22,
   "metadata": {},
   "outputs": [
    {
     "data": {
      "text/plain": [
       "pandas.core.frame.DataFrame"
      ]
     },
     "execution_count": 22,
     "metadata": {},
     "output_type": "execute_result"
    }
   ],
   "source": [
    "# OBTER TODOS OS REGISTROS QUE SE REFIRAM A ALGUM PAÍS DA LISTA DE ENTRADA (df3):\n",
    "\n",
    "# pega a lista, df3, faz o \"any\" e coloca isso dentro do \"lambda\". Vejamos:\n",
    "linhas2 = ( df1.loc[:, 'country_name'].apply( lambda x: any(pais in x for pais in df3) ) )\n",
    "df5 = df1.loc[linhas2, colunas].copy()\n",
    "# parece que funcionou\n",
    "df6 = df5['country_name'].unique()\n",
    "df6\n",
    "type(df1)"
   ]
  },
  {
   "attachments": {},
   "cell_type": "markdown",
   "metadata": {},
   "source": [
    "## 2.2. Qual o nome do país que possui mais restaurantes registrados?"
   ]
  },
  {
   "cell_type": "code",
   "execution_count": 7,
   "metadata": {},
   "outputs": [
    {
     "name": "stdout",
     "output_type": "stream",
     "text": [
      "O país com mais restaurantes é: India\n"
     ]
    },
    {
     "data": {
      "text/html": [
       "<div>\n",
       "<style scoped>\n",
       "    .dataframe tbody tr th:only-of-type {\n",
       "        vertical-align: middle;\n",
       "    }\n",
       "\n",
       "    .dataframe tbody tr th {\n",
       "        vertical-align: top;\n",
       "    }\n",
       "\n",
       "    .dataframe thead th {\n",
       "        text-align: right;\n",
       "    }\n",
       "</style>\n",
       "<table border=\"1\" class=\"dataframe\">\n",
       "  <thead>\n",
       "    <tr style=\"text-align: right;\">\n",
       "      <th></th>\n",
       "      <th>country_name</th>\n",
       "      <th>restaurant_id</th>\n",
       "    </tr>\n",
       "  </thead>\n",
       "  <tbody>\n",
       "    <tr>\n",
       "      <th>0</th>\n",
       "      <td>India</td>\n",
       "      <td>3120</td>\n",
       "    </tr>\n",
       "    <tr>\n",
       "      <th>1</th>\n",
       "      <td>United States of America</td>\n",
       "      <td>1378</td>\n",
       "    </tr>\n",
       "    <tr>\n",
       "      <th>2</th>\n",
       "      <td>England</td>\n",
       "      <td>400</td>\n",
       "    </tr>\n",
       "    <tr>\n",
       "      <th>3</th>\n",
       "      <td>South Africa</td>\n",
       "      <td>346</td>\n",
       "    </tr>\n",
       "    <tr>\n",
       "      <th>4</th>\n",
       "      <td>United Arab Emirates</td>\n",
       "      <td>300</td>\n",
       "    </tr>\n",
       "    <tr>\n",
       "      <th>5</th>\n",
       "      <td>Brazil</td>\n",
       "      <td>240</td>\n",
       "    </tr>\n",
       "    <tr>\n",
       "      <th>6</th>\n",
       "      <td>New Zealand</td>\n",
       "      <td>239</td>\n",
       "    </tr>\n",
       "    <tr>\n",
       "      <th>7</th>\n",
       "      <td>Australia</td>\n",
       "      <td>180</td>\n",
       "    </tr>\n",
       "    <tr>\n",
       "      <th>8</th>\n",
       "      <td>Canada</td>\n",
       "      <td>180</td>\n",
       "    </tr>\n",
       "    <tr>\n",
       "      <th>9</th>\n",
       "      <td>Turkey</td>\n",
       "      <td>159</td>\n",
       "    </tr>\n",
       "    <tr>\n",
       "      <th>10</th>\n",
       "      <td>Indonesia</td>\n",
       "      <td>80</td>\n",
       "    </tr>\n",
       "    <tr>\n",
       "      <th>11</th>\n",
       "      <td>Philippines</td>\n",
       "      <td>80</td>\n",
       "    </tr>\n",
       "    <tr>\n",
       "      <th>12</th>\n",
       "      <td>Qatar</td>\n",
       "      <td>80</td>\n",
       "    </tr>\n",
       "    <tr>\n",
       "      <th>13</th>\n",
       "      <td>Singapure</td>\n",
       "      <td>80</td>\n",
       "    </tr>\n",
       "    <tr>\n",
       "      <th>14</th>\n",
       "      <td>Sri Lanka</td>\n",
       "      <td>80</td>\n",
       "    </tr>\n",
       "  </tbody>\n",
       "</table>\n",
       "</div>"
      ],
      "text/plain": [
       "                country_name  restaurant_id\n",
       "0                      India           3120\n",
       "1   United States of America           1378\n",
       "2                    England            400\n",
       "3               South Africa            346\n",
       "4       United Arab Emirates            300\n",
       "5                     Brazil            240\n",
       "6                New Zealand            239\n",
       "7                  Australia            180\n",
       "8                     Canada            180\n",
       "9                     Turkey            159\n",
       "10                 Indonesia             80\n",
       "11               Philippines             80\n",
       "12                     Qatar             80\n",
       "13                 Singapure             80\n",
       "14                 Sri Lanka             80"
      ]
     },
     "execution_count": 7,
     "metadata": {},
     "output_type": "execute_result"
    }
   ],
   "source": [
    "colunas = ['country_name','restaurant_id']\n",
    "df2 = ( df1.loc[:, colunas]\n",
    "           .groupby('country_name').count()\n",
    "           .sort_values(by=['restaurant_id'], ascending=False)\n",
    "           .reset_index() )\n",
    "Country_with_More_Restaurants = df2.loc[0, 'country_name']\n",
    "\n",
    "print(f\"O país com mais restaurantes é: {Country_with_More_Restaurants}\")\n",
    "df2"
   ]
  },
  {
   "attachments": {},
   "cell_type": "markdown",
   "metadata": {},
   "source": [
    "## 2.3. Qual o nome do país que possui mais restaurantes com o nível de preço igual a 4 registrados?"
   ]
  },
  {
   "cell_type": "code",
   "execution_count": 107,
   "metadata": {},
   "outputs": [
    {
     "name": "stdout",
     "output_type": "stream",
     "text": [
      "O país com mais restaurantes nível 4 é: United States of America\n"
     ]
    }
   ],
   "source": [
    "colunas = ['country_name','restaurant_id','price_range']\n",
    "#   Price range . . . . : int, values = [ 1, 2, 3, 4 ]\n",
    "df2 = df1.loc[ df1['price_range']==4 , colunas].copy()\n",
    "df3 = ( df2.loc[:, ['country_name','restaurant_id']]\n",
    "           .groupby('country_name').count()\n",
    "           .sort_values(by=['restaurant_id'] , ascending=False )\n",
    "           .reset_index() )\n",
    "Country_with_More_Level4 = df3.loc[0, 'country_name']\n",
    "\n",
    "print(f\"O país com mais restaurantes nível 4 é: {Country_with_More_Level4}\")\n",
    "df3"
   ]
  },
  {
   "attachments": {},
   "cell_type": "markdown",
   "metadata": {},
   "source": [
    "## 2.4. Qual o nome do país que possui a maior quantidade de tipos de culinária distintos?"
   ]
  },
  {
   "cell_type": "code",
   "execution_count": 109,
   "metadata": {},
   "outputs": [
    {
     "name": "stdout",
     "output_type": "stream",
     "text": [
      "O país com maior quantidade de tipos culinários é: India\n"
     ]
    }
   ],
   "source": [
    "colunas = ['country_name','unique_cuisine','restaurant_id']\n",
    "linhas = df1['unique_cuisine'] != \"\"\n",
    "df2 = ( df1.loc[linhas, colunas]\n",
    "           .groupby(['country_name','unique_cuisine'])\n",
    "           .count().reset_index() )\n",
    "df3 = ( df2.loc[:, ['country_name','unique_cuisine']]\n",
    "           .groupby('country_name').count()\n",
    "           .sort_values(by=['unique_cuisine'] , ascending=False )\n",
    "           .reset_index() )\n",
    "Country_with_More_Cuisines = df3.loc[0, 'country_name']\n",
    "\n",
    "print(f\"O país com maior quantidade de tipos culinários é: {Country_with_More_Cuisines}\")\n",
    "df3"
   ]
  },
  {
   "attachments": {},
   "cell_type": "markdown",
   "metadata": {},
   "source": [
    "## 2.5. Qual o nome do país que possui a maior quantidade de avaliações feitas?"
   ]
  },
  {
   "cell_type": "code",
   "execution_count": 10,
   "metadata": {},
   "outputs": [
    {
     "name": "stdout",
     "output_type": "stream",
     "text": [
      "O país com maior quantidade de avaliações é: India\n"
     ]
    },
    {
     "data": {
      "text/html": [
       "<div>\n",
       "<style scoped>\n",
       "    .dataframe tbody tr th:only-of-type {\n",
       "        vertical-align: middle;\n",
       "    }\n",
       "\n",
       "    .dataframe tbody tr th {\n",
       "        vertical-align: top;\n",
       "    }\n",
       "\n",
       "    .dataframe thead th {\n",
       "        text-align: right;\n",
       "    }\n",
       "</style>\n",
       "<table border=\"1\" class=\"dataframe\">\n",
       "  <thead>\n",
       "    <tr style=\"text-align: right;\">\n",
       "      <th></th>\n",
       "      <th>country_name</th>\n",
       "      <th>votes</th>\n",
       "    </tr>\n",
       "  </thead>\n",
       "  <tbody>\n",
       "    <tr>\n",
       "      <th>0</th>\n",
       "      <td>India</td>\n",
       "      <td>2800199</td>\n",
       "    </tr>\n",
       "    <tr>\n",
       "      <th>1</th>\n",
       "      <td>United States of America</td>\n",
       "      <td>523414</td>\n",
       "    </tr>\n",
       "    <tr>\n",
       "      <th>2</th>\n",
       "      <td>United Arab Emirates</td>\n",
       "      <td>177564</td>\n",
       "    </tr>\n",
       "    <tr>\n",
       "      <th>3</th>\n",
       "      <td>Australia</td>\n",
       "      <td>130357</td>\n",
       "    </tr>\n",
       "    <tr>\n",
       "      <th>4</th>\n",
       "      <td>Canada</td>\n",
       "      <td>105018</td>\n",
       "    </tr>\n",
       "    <tr>\n",
       "      <th>5</th>\n",
       "      <td>Turkey</td>\n",
       "      <td>100193</td>\n",
       "    </tr>\n",
       "    <tr>\n",
       "      <th>6</th>\n",
       "      <td>Indonesia</td>\n",
       "      <td>89026</td>\n",
       "    </tr>\n",
       "    <tr>\n",
       "      <th>7</th>\n",
       "      <td>South Africa</td>\n",
       "      <td>81939</td>\n",
       "    </tr>\n",
       "    <tr>\n",
       "      <th>8</th>\n",
       "      <td>New Zealand</td>\n",
       "      <td>52532</td>\n",
       "    </tr>\n",
       "    <tr>\n",
       "      <th>9</th>\n",
       "      <td>Philippines</td>\n",
       "      <td>48398</td>\n",
       "    </tr>\n",
       "    <tr>\n",
       "      <th>10</th>\n",
       "      <td>England</td>\n",
       "      <td>39956</td>\n",
       "    </tr>\n",
       "    <tr>\n",
       "      <th>11</th>\n",
       "      <td>Qatar</td>\n",
       "      <td>30106</td>\n",
       "    </tr>\n",
       "    <tr>\n",
       "      <th>12</th>\n",
       "      <td>Sri Lanka</td>\n",
       "      <td>12133</td>\n",
       "    </tr>\n",
       "    <tr>\n",
       "      <th>13</th>\n",
       "      <td>Brazil</td>\n",
       "      <td>2977</td>\n",
       "    </tr>\n",
       "    <tr>\n",
       "      <th>14</th>\n",
       "      <td>Singapure</td>\n",
       "      <td>1822</td>\n",
       "    </tr>\n",
       "  </tbody>\n",
       "</table>\n",
       "</div>"
      ],
      "text/plain": [
       "                country_name    votes\n",
       "0                      India  2800199\n",
       "1   United States of America   523414\n",
       "2       United Arab Emirates   177564\n",
       "3                  Australia   130357\n",
       "4                     Canada   105018\n",
       "5                     Turkey   100193\n",
       "6                  Indonesia    89026\n",
       "7               South Africa    81939\n",
       "8                New Zealand    52532\n",
       "9                Philippines    48398\n",
       "10                   England    39956\n",
       "11                     Qatar    30106\n",
       "12                 Sri Lanka    12133\n",
       "13                    Brazil     2977\n",
       "14                 Singapure     1822"
      ]
     },
     "execution_count": 10,
     "metadata": {},
     "output_type": "execute_result"
    }
   ],
   "source": [
    "colunas = ['country_name','votes']\n",
    "df2 = ( df1.loc[:, colunas]\n",
    "           .groupby('country_name').sum()\n",
    "           .sort_values(by=['votes'] , ascending=False )\n",
    "           .reset_index() )\n",
    "Country_with_More_Evaluations = df2.loc[0, 'country_name']\n",
    "\n",
    "print(f\"O país com maior quantidade de avaliações é: {Country_with_More_Evaluations}\")\n",
    "df2"
   ]
  },
  {
   "attachments": {},
   "cell_type": "markdown",
   "metadata": {},
   "source": [
    "## 2.6. Qual o nome do país que possui a maior quantidade de restaurantes que fazem entrega?"
   ]
  },
  {
   "cell_type": "code",
   "execution_count": 113,
   "metadata": {},
   "outputs": [
    {
     "name": "stdout",
     "output_type": "stream",
     "text": [
      "O país com maior quantidade de restaurantes que fazem entregas é: India\n"
     ]
    }
   ],
   "source": [
    "#   Has Online delivery : int, values = [ 0, 1 ]\n",
    "colunas = ['country_name','has_online_delivery','restaurant_id']\n",
    "linhas = df1['has_online_delivery'] == 1\n",
    "df2 = df1.loc[linhas, colunas]\n",
    "colunas = ['country_name','restaurant_id']\n",
    "df3 = ( df2.loc[:, colunas]\n",
    "           .groupby('country_name').count()\n",
    "           .sort_values(by=['restaurant_id'] , ascending=False )\n",
    "           .reset_index() )\n",
    "Country_with_More_Deliveries = df3.loc[0, 'country_name']\n",
    "\n",
    "print(f\"O país com maior quantidade de restaurantes que fazem entregas é: {Country_with_More_Evaluations}\")\n",
    "df3"
   ]
  },
  {
   "attachments": {},
   "cell_type": "markdown",
   "metadata": {},
   "source": [
    "## 2.7. Qual o nome do país que possui a maior quantidade de restaurantes que aceitam reservas?"
   ]
  },
  {
   "cell_type": "code",
   "execution_count": 120,
   "metadata": {},
   "outputs": [
    {
     "name": "stdout",
     "output_type": "stream",
     "text": [
      "O país com maior quantidade de restaurantes que aceitam reservas é: India\n"
     ]
    }
   ],
   "source": [
    "#   Has Table booking   : int, values = [ 0, 1 ]\n",
    "colunas = ['country_name','restaurant_id','has_table_booking']\n",
    "linhas = df1['has_table_booking'] == 1\n",
    "df2 = df1.loc[linhas, colunas]\n",
    "colunas = ['country_name','restaurant_id']\n",
    "df3 = ( df2.loc[:, colunas]\n",
    "           .groupby('country_name').count()\n",
    "           .sort_values(by=['restaurant_id'] , ascending=False )\n",
    "           .reset_index() )\n",
    "Country_with_More_BookingTables = df3.loc[0, 'country_name']\n",
    "\n",
    "print(f\"O país com maior quantidade de restaurantes que aceitam reservas é: {Country_with_More_BookingTables}\")\n",
    "df3"
   ]
  },
  {
   "attachments": {},
   "cell_type": "markdown",
   "metadata": {},
   "source": [
    "## 2.8. Qual o nome do país que possui, na média, a maior quantidade de avaliações registrada?"
   ]
  },
  {
   "cell_type": "code",
   "execution_count": 8,
   "metadata": {},
   "outputs": [
    {
     "name": "stdout",
     "output_type": "stream",
     "text": [
      "'Indonesia' é o país com maior quantidade média de avaliações, com 1113.0 votos por restaurante\n"
     ]
    }
   ],
   "source": [
    "# Qual média? Resposta: entendo que seja a média = (total de avaliações do país)/(total de restaurantes do país)\n",
    "# Numerador: total de avaliações de cada país\n",
    "colunas = ['country_code','country_name','votes']\n",
    "NUM = ( df1.loc[:, colunas]\n",
    "           .groupby(['country_code','country_name']).sum()\n",
    "           .sort_values(by=['country_code'] )\n",
    "           .reset_index() )\n",
    "# Denominador: total de restaurantes do país\n",
    "colunas = ['country_code','country_name','restaurant_id']\n",
    "DEN = ( df1.loc[:, colunas]\n",
    "           .groupby(['country_code','country_name']).count()\n",
    "           .sort_values(by=['country_code'] )\n",
    "           .reset_index() )\n",
    "# Junta colunas de votos e de restaurantes\n",
    "NUM = NUM.join( DEN['restaurant_id'] )\n",
    "# Calcula a média por país:\n",
    "NUM['mean_qty_votes_by_country'] = NUM['votes'] / NUM['restaurant_id']\n",
    "NUM = NUM.loc[:, :].sort_values(by=['mean_qty_votes_by_country'], ascending=False).reset_index()\n",
    "country_with_biggest_mean = NUM.loc[0, 'country_name']\n",
    "biggest_mean = NUM.loc[0, 'mean_qty_votes_by_country']\n",
    "print(f\"'{country_with_biggest_mean}' é o país com maior quantidade média de avaliações, com {round(biggest_mean,0)} votos por restaurante\")\n",
    "#display(NUM)"
   ]
  },
  {
   "attachments": {},
   "cell_type": "markdown",
   "metadata": {},
   "source": [
    "#### OBS: consultei a monitoria em 22-6-2023, que me sugeriu a seguinte solução melhor:"
   ]
  },
  {
   "cell_type": "code",
   "execution_count": 10,
   "metadata": {},
   "outputs": [
    {
     "name": "stdout",
     "output_type": "stream",
     "text": [
      "'Indonesia' é o país com maior quantidade média de avaliações, com 1113.0 votos por restaurante\n"
     ]
    }
   ],
   "source": [
    "# SUGESTÃO DA MONITORIA EM 22-JUN-2023\n",
    "\n",
    "# Numerador: total de avaliações de cada país\n",
    "colunas = ['country_code','country_name','votes']\n",
    "NUM = ( df1.loc[:, colunas]\n",
    "           .groupby(['country_code','country_name']).mean()  # troca de 'sum' por 'mean'\n",
    "           .sort_values(by=['votes'], ascending=False )      # troquei para 'votes'\n",
    "           .reset_index() )\n",
    "# a resposta será o país que aparece no início da lista...\n",
    "country_with_biggest_mean = NUM.loc[0, 'country_name']\n",
    "biggest_mean = NUM.loc[0, 'votes']\n",
    "print(f\"'{country_with_biggest_mean}' é o país com maior quantidade média de avaliações, com {round(biggest_mean,0)} votos por restaurante\")\n",
    "# FIM !"
   ]
  },
  {
   "attachments": {},
   "cell_type": "markdown",
   "metadata": {},
   "source": [
    "## 2.9. Qual o nome do país que possui, na média, a maior nota média registrada?"
   ]
  },
  {
   "cell_type": "code",
   "execution_count": 23,
   "metadata": {},
   "outputs": [
    {
     "name": "stdout",
     "output_type": "stream",
     "text": [
      "'Indonesia' é o país com maior nota média de avaliações, com 4.67\n"
     ]
    }
   ],
   "source": [
    "# Qual média? \n",
    "# Resposta: cada restaurante tem sua nota agregada (aggregate_rating)...\n",
    "#           ...que pode ser sopesada pela quantidade de votos (votes)\n",
    "#           Assim, a média do país = sum( votes*aggregate_rating ) / sum( votes )\n",
    "\n",
    "# Dado auxiliar ao Numerador: votes*aggregate_rating\n",
    "colunas = ['restaurant_id','country_code','country_name','votes','aggregate_rating']\n",
    "multpl = df1.loc[:, colunas].copy()\n",
    "multpl['votes_x_rating'] = multpl['votes'] * multpl['aggregate_rating']\n",
    "\n",
    "# Numerador: sum( votes*aggregate_rating )\n",
    "# Denominador: sum( votes )\n",
    "colunas = ['country_code','country_name','votes','votes_x_rating']\n",
    "NUM_DENOM = ( multpl.loc[:, colunas]\n",
    "                    .groupby(['country_code','country_name']).sum()\n",
    "                    .sort_values(by=['country_code'])\n",
    "                    .reset_index() )\n",
    "NUM_DENOM\n",
    "\n",
    "# Calcula média de notas e faz ranking de países\n",
    "NUM_DENOM['mean_country_rating'] = NUM_DENOM['votes_x_rating'] / NUM_DENOM['votes']\n",
    "NUM_DENOM = NUM_DENOM.sort_values(by=['mean_country_rating'], ascending=False).reset_index()\n",
    "\n",
    "country_max_mean_rating = NUM_DENOM.loc[0, 'country_name']\n",
    "biggest_max_mean_rating = NUM_DENOM.loc[0, 'mean_country_rating']\n",
    "\n",
    "print(f\"'{country_max_mean_rating}' é o país com maior nota média de avaliações, com {round(biggest_max_mean_rating,2)}\")\n",
    "#display(NUM_DENOM)"
   ]
  },
  {
   "attachments": {},
   "cell_type": "markdown",
   "metadata": {},
   "source": [
    "#### Solução mais simples: fazer média simples dos ratings, sem se importar com qual restaurante teve mais votos"
   ]
  },
  {
   "cell_type": "code",
   "execution_count": 21,
   "metadata": {},
   "outputs": [
    {
     "data": {
      "text/html": [
       "<div>\n",
       "<style scoped>\n",
       "    .dataframe tbody tr th:only-of-type {\n",
       "        vertical-align: middle;\n",
       "    }\n",
       "\n",
       "    .dataframe tbody tr th {\n",
       "        vertical-align: top;\n",
       "    }\n",
       "\n",
       "    .dataframe thead th {\n",
       "        text-align: right;\n",
       "    }\n",
       "</style>\n",
       "<table border=\"1\" class=\"dataframe\">\n",
       "  <thead>\n",
       "    <tr style=\"text-align: right;\">\n",
       "      <th></th>\n",
       "      <th>country_code</th>\n",
       "      <th>country_name</th>\n",
       "      <th>aggregate_rating</th>\n",
       "    </tr>\n",
       "  </thead>\n",
       "  <tbody>\n",
       "    <tr>\n",
       "      <th>0</th>\n",
       "      <td>94</td>\n",
       "      <td>Indonesia</td>\n",
       "      <td>4.601250</td>\n",
       "    </tr>\n",
       "    <tr>\n",
       "      <th>1</th>\n",
       "      <td>162</td>\n",
       "      <td>Philippines</td>\n",
       "      <td>4.463750</td>\n",
       "    </tr>\n",
       "    <tr>\n",
       "      <th>2</th>\n",
       "      <td>184</td>\n",
       "      <td>Singapure</td>\n",
       "      <td>4.435000</td>\n",
       "    </tr>\n",
       "    <tr>\n",
       "      <th>3</th>\n",
       "      <td>216</td>\n",
       "      <td>United States of America</td>\n",
       "      <td>4.402322</td>\n",
       "    </tr>\n",
       "    <tr>\n",
       "      <th>4</th>\n",
       "      <td>14</td>\n",
       "      <td>Australia</td>\n",
       "      <td>4.372778</td>\n",
       "    </tr>\n",
       "    <tr>\n",
       "      <th>5</th>\n",
       "      <td>37</td>\n",
       "      <td>Canada</td>\n",
       "      <td>4.321667</td>\n",
       "    </tr>\n",
       "    <tr>\n",
       "      <th>6</th>\n",
       "      <td>208</td>\n",
       "      <td>Turkey</td>\n",
       "      <td>4.310063</td>\n",
       "    </tr>\n",
       "    <tr>\n",
       "      <th>7</th>\n",
       "      <td>166</td>\n",
       "      <td>Qatar</td>\n",
       "      <td>4.240000</td>\n",
       "    </tr>\n",
       "    <tr>\n",
       "      <th>8</th>\n",
       "      <td>148</td>\n",
       "      <td>New Zealand</td>\n",
       "      <td>4.164435</td>\n",
       "    </tr>\n",
       "    <tr>\n",
       "      <th>9</th>\n",
       "      <td>189</td>\n",
       "      <td>South Africa</td>\n",
       "      <td>4.061561</td>\n",
       "    </tr>\n",
       "    <tr>\n",
       "      <th>10</th>\n",
       "      <td>191</td>\n",
       "      <td>Sri Lanka</td>\n",
       "      <td>4.057500</td>\n",
       "    </tr>\n",
       "    <tr>\n",
       "      <th>11</th>\n",
       "      <td>215</td>\n",
       "      <td>England</td>\n",
       "      <td>4.041750</td>\n",
       "    </tr>\n",
       "    <tr>\n",
       "      <th>12</th>\n",
       "      <td>1</td>\n",
       "      <td>India</td>\n",
       "      <td>4.027532</td>\n",
       "    </tr>\n",
       "    <tr>\n",
       "      <th>13</th>\n",
       "      <td>214</td>\n",
       "      <td>United Arab Emirates</td>\n",
       "      <td>4.023667</td>\n",
       "    </tr>\n",
       "    <tr>\n",
       "      <th>14</th>\n",
       "      <td>30</td>\n",
       "      <td>Brazil</td>\n",
       "      <td>3.321667</td>\n",
       "    </tr>\n",
       "  </tbody>\n",
       "</table>\n",
       "</div>"
      ],
      "text/plain": [
       "    country_code              country_name  aggregate_rating\n",
       "0             94                 Indonesia          4.601250\n",
       "1            162               Philippines          4.463750\n",
       "2            184                 Singapure          4.435000\n",
       "3            216  United States of America          4.402322\n",
       "4             14                 Australia          4.372778\n",
       "5             37                    Canada          4.321667\n",
       "6            208                    Turkey          4.310063\n",
       "7            166                     Qatar          4.240000\n",
       "8            148               New Zealand          4.164435\n",
       "9            189              South Africa          4.061561\n",
       "10           191                 Sri Lanka          4.057500\n",
       "11           215                   England          4.041750\n",
       "12             1                     India          4.027532\n",
       "13           214      United Arab Emirates          4.023667\n",
       "14            30                    Brazil          3.321667"
      ]
     },
     "execution_count": 21,
     "metadata": {},
     "output_type": "execute_result"
    }
   ],
   "source": [
    "# Qual média simples? \n",
    "# Resposta: seria a média da nota agregada (aggregate_rating)...\n",
    "#           ...sem considerar a quantidade de votos (votes)\n",
    "colunas = ['country_code','country_name','aggregate_rating']\n",
    "df2 = ( df1.loc[:, colunas]\n",
    "           .groupby(['country_code','country_name']).mean()\n",
    "           .sort_values('aggregate_rating', ascending=False)\n",
    "           .reset_index() )\n",
    "df2\n",
    "# OBS: prefiro a primeira solução, por ser mais correta."
   ]
  },
  {
   "attachments": {},
   "cell_type": "markdown",
   "metadata": {},
   "source": [
    "## 2.10. Qual o nome do país que possui, na média, a menor nota média registrada?"
   ]
  },
  {
   "cell_type": "code",
   "execution_count": 12,
   "metadata": {},
   "outputs": [
    {
     "name": "stdout",
     "output_type": "stream",
     "text": [
      "'Sri Lanka' é o país com menor nota média de avaliações, com 4.1\n"
     ]
    },
    {
     "data": {
      "text/html": [
       "<div>\n",
       "<style scoped>\n",
       "    .dataframe tbody tr th:only-of-type {\n",
       "        vertical-align: middle;\n",
       "    }\n",
       "\n",
       "    .dataframe tbody tr th {\n",
       "        vertical-align: top;\n",
       "    }\n",
       "\n",
       "    .dataframe thead th {\n",
       "        text-align: right;\n",
       "    }\n",
       "</style>\n",
       "<table border=\"1\" class=\"dataframe\">\n",
       "  <thead>\n",
       "    <tr style=\"text-align: right;\">\n",
       "      <th></th>\n",
       "      <th>index</th>\n",
       "      <th>country_code</th>\n",
       "      <th>country_name</th>\n",
       "      <th>votes</th>\n",
       "      <th>votes_x_rating</th>\n",
       "      <th>mean_country_rating</th>\n",
       "    </tr>\n",
       "  </thead>\n",
       "  <tbody>\n",
       "    <tr>\n",
       "      <th>0</th>\n",
       "      <td>10</td>\n",
       "      <td>191</td>\n",
       "      <td>Sri Lanka</td>\n",
       "      <td>12133</td>\n",
       "      <td>49741.8</td>\n",
       "      <td>4.099712</td>\n",
       "    </tr>\n",
       "    <tr>\n",
       "      <th>1</th>\n",
       "      <td>2</td>\n",
       "      <td>30</td>\n",
       "      <td>Brazil</td>\n",
       "      <td>2977</td>\n",
       "      <td>12520.8</td>\n",
       "      <td>4.205845</td>\n",
       "    </tr>\n",
       "    <tr>\n",
       "      <th>2</th>\n",
       "      <td>9</td>\n",
       "      <td>189</td>\n",
       "      <td>South Africa</td>\n",
       "      <td>81939</td>\n",
       "      <td>348375.8</td>\n",
       "      <td>4.251648</td>\n",
       "    </tr>\n",
       "    <tr>\n",
       "      <th>3</th>\n",
       "      <td>7</td>\n",
       "      <td>166</td>\n",
       "      <td>Qatar</td>\n",
       "      <td>30106</td>\n",
       "      <td>128429.9</td>\n",
       "      <td>4.265924</td>\n",
       "    </tr>\n",
       "    <tr>\n",
       "      <th>4</th>\n",
       "      <td>12</td>\n",
       "      <td>214</td>\n",
       "      <td>United Arab Emirates</td>\n",
       "      <td>177564</td>\n",
       "      <td>760488.4</td>\n",
       "      <td>4.282897</td>\n",
       "    </tr>\n",
       "    <tr>\n",
       "      <th>5</th>\n",
       "      <td>0</td>\n",
       "      <td>1</td>\n",
       "      <td>India</td>\n",
       "      <td>2800199</td>\n",
       "      <td>12091975.6</td>\n",
       "      <td>4.318256</td>\n",
       "    </tr>\n",
       "    <tr>\n",
       "      <th>6</th>\n",
       "      <td>5</td>\n",
       "      <td>148</td>\n",
       "      <td>New Zealand</td>\n",
       "      <td>52532</td>\n",
       "      <td>227398.9</td>\n",
       "      <td>4.328769</td>\n",
       "    </tr>\n",
       "    <tr>\n",
       "      <th>7</th>\n",
       "      <td>3</td>\n",
       "      <td>37</td>\n",
       "      <td>Canada</td>\n",
       "      <td>105018</td>\n",
       "      <td>459239.4</td>\n",
       "      <td>4.372959</td>\n",
       "    </tr>\n",
       "    <tr>\n",
       "      <th>8</th>\n",
       "      <td>11</td>\n",
       "      <td>208</td>\n",
       "      <td>Turkey</td>\n",
       "      <td>100193</td>\n",
       "      <td>440173.5</td>\n",
       "      <td>4.393256</td>\n",
       "    </tr>\n",
       "    <tr>\n",
       "      <th>9</th>\n",
       "      <td>1</td>\n",
       "      <td>14</td>\n",
       "      <td>Australia</td>\n",
       "      <td>130357</td>\n",
       "      <td>573965.4</td>\n",
       "      <td>4.403027</td>\n",
       "    </tr>\n",
       "    <tr>\n",
       "      <th>10</th>\n",
       "      <td>13</td>\n",
       "      <td>215</td>\n",
       "      <td>England</td>\n",
       "      <td>39956</td>\n",
       "      <td>178856.0</td>\n",
       "      <td>4.476324</td>\n",
       "    </tr>\n",
       "    <tr>\n",
       "      <th>11</th>\n",
       "      <td>14</td>\n",
       "      <td>216</td>\n",
       "      <td>United States of America</td>\n",
       "      <td>523414</td>\n",
       "      <td>2343755.8</td>\n",
       "      <td>4.477824</td>\n",
       "    </tr>\n",
       "    <tr>\n",
       "      <th>12</th>\n",
       "      <td>6</td>\n",
       "      <td>162</td>\n",
       "      <td>Philippines</td>\n",
       "      <td>48398</td>\n",
       "      <td>219264.4</td>\n",
       "      <td>4.530443</td>\n",
       "    </tr>\n",
       "    <tr>\n",
       "      <th>13</th>\n",
       "      <td>8</td>\n",
       "      <td>184</td>\n",
       "      <td>Singapure</td>\n",
       "      <td>1822</td>\n",
       "      <td>8354.0</td>\n",
       "      <td>4.585071</td>\n",
       "    </tr>\n",
       "    <tr>\n",
       "      <th>14</th>\n",
       "      <td>4</td>\n",
       "      <td>94</td>\n",
       "      <td>Indonesia</td>\n",
       "      <td>89026</td>\n",
       "      <td>415466.2</td>\n",
       "      <td>4.666796</td>\n",
       "    </tr>\n",
       "  </tbody>\n",
       "</table>\n",
       "</div>"
      ],
      "text/plain": [
       "    index  country_code              country_name    votes  votes_x_rating  \\\n",
       "0      10           191                 Sri Lanka    12133         49741.8   \n",
       "1       2            30                    Brazil     2977         12520.8   \n",
       "2       9           189              South Africa    81939        348375.8   \n",
       "3       7           166                     Qatar    30106        128429.9   \n",
       "4      12           214      United Arab Emirates   177564        760488.4   \n",
       "5       0             1                     India  2800199      12091975.6   \n",
       "6       5           148               New Zealand    52532        227398.9   \n",
       "7       3            37                    Canada   105018        459239.4   \n",
       "8      11           208                    Turkey   100193        440173.5   \n",
       "9       1            14                 Australia   130357        573965.4   \n",
       "10     13           215                   England    39956        178856.0   \n",
       "11     14           216  United States of America   523414       2343755.8   \n",
       "12      6           162               Philippines    48398        219264.4   \n",
       "13      8           184                 Singapure     1822          8354.0   \n",
       "14      4            94                 Indonesia    89026        415466.2   \n",
       "\n",
       "    mean_country_rating  \n",
       "0              4.099712  \n",
       "1              4.205845  \n",
       "2              4.251648  \n",
       "3              4.265924  \n",
       "4              4.282897  \n",
       "5              4.318256  \n",
       "6              4.328769  \n",
       "7              4.372959  \n",
       "8              4.393256  \n",
       "9              4.403027  \n",
       "10             4.476324  \n",
       "11             4.477824  \n",
       "12             4.530443  \n",
       "13             4.585071  \n",
       "14             4.666796  "
      ]
     },
     "metadata": {},
     "output_type": "display_data"
    }
   ],
   "source": [
    "# Segue a lógica do tópico 2.9:\n",
    "# Dado auxiliar ao Numerador: votes*aggregate_rating\n",
    "colunas = ['restaurant_id','country_code','country_name','votes','aggregate_rating']\n",
    "multpl = df1.loc[:, colunas].copy()\n",
    "multpl['votes_x_rating'] = multpl['votes'] * multpl['aggregate_rating']\n",
    "\n",
    "# Numerador: sum( votes*aggregate_rating )\n",
    "# Denominador: sum( votes )\n",
    "colunas = ['country_code','country_name','votes','votes_x_rating']\n",
    "NUM_DENOM = ( multpl.loc[:, colunas]\n",
    "                    .groupby(['country_code','country_name']).sum()\n",
    "                    .sort_values(by=['country_code'])\n",
    "                    .reset_index() )\n",
    "\n",
    "# Calcula média de notas e faz ranking de países, do menor para o maior\n",
    "NUM_DENOM['mean_country_rating'] = NUM_DENOM['votes_x_rating'] / NUM_DENOM['votes']\n",
    "NUM_DENOM = NUM_DENOM.sort_values(by=['mean_country_rating']).reset_index()\n",
    "\n",
    "country_min_mean_rating = NUM_DENOM.loc[0, 'country_name']\n",
    "biggest_min_mean_rating = NUM_DENOM.loc[0, 'mean_country_rating']\n",
    "\n",
    "print(f\"'{country_min_mean_rating}' é o país com menor nota média de avaliações, com {round(biggest_min_mean_rating,3)}\")\n",
    "display(NUM_DENOM)"
   ]
  },
  {
   "attachments": {},
   "cell_type": "markdown",
   "metadata": {},
   "source": [
    "## 2.11. Qual a média de preço de um prato para dois por país?"
   ]
  },
  {
   "cell_type": "code",
   "execution_count": 13,
   "metadata": {},
   "outputs": [
    {
     "data": {
      "text/html": [
       "<div>\n",
       "<style scoped>\n",
       "    .dataframe tbody tr th:only-of-type {\n",
       "        vertical-align: middle;\n",
       "    }\n",
       "\n",
       "    .dataframe tbody tr th {\n",
       "        vertical-align: top;\n",
       "    }\n",
       "\n",
       "    .dataframe thead th {\n",
       "        text-align: right;\n",
       "    }\n",
       "</style>\n",
       "<table border=\"1\" class=\"dataframe\">\n",
       "  <thead>\n",
       "    <tr style=\"text-align: right;\">\n",
       "      <th></th>\n",
       "      <th>country_code</th>\n",
       "      <th>country_name</th>\n",
       "      <th>currency</th>\n",
       "      <th>average_cost_for_two</th>\n",
       "    </tr>\n",
       "  </thead>\n",
       "  <tbody>\n",
       "    <tr>\n",
       "      <th>0</th>\n",
       "      <td>94</td>\n",
       "      <td>Indonesia</td>\n",
       "      <td>Indonesian Rupiah(IDR)</td>\n",
       "      <td>303000.000000</td>\n",
       "    </tr>\n",
       "    <tr>\n",
       "      <th>1</th>\n",
       "      <td>14</td>\n",
       "      <td>Australia</td>\n",
       "      <td>Dollar($)</td>\n",
       "      <td>138959.783333</td>\n",
       "    </tr>\n",
       "    <tr>\n",
       "      <th>2</th>\n",
       "      <td>191</td>\n",
       "      <td>Sri Lanka</td>\n",
       "      <td>Sri Lankan Rupee(LKR)</td>\n",
       "      <td>2579.375000</td>\n",
       "    </tr>\n",
       "    <tr>\n",
       "      <th>3</th>\n",
       "      <td>162</td>\n",
       "      <td>Philippines</td>\n",
       "      <td>Botswana Pula(P)</td>\n",
       "      <td>1227.825000</td>\n",
       "    </tr>\n",
       "    <tr>\n",
       "      <th>4</th>\n",
       "      <td>1</td>\n",
       "      <td>India</td>\n",
       "      <td>Indian Rupees(Rs.)</td>\n",
       "      <td>703.602564</td>\n",
       "    </tr>\n",
       "    <tr>\n",
       "      <th>5</th>\n",
       "      <td>189</td>\n",
       "      <td>South Africa</td>\n",
       "      <td>Rand(R)</td>\n",
       "      <td>339.228324</td>\n",
       "    </tr>\n",
       "    <tr>\n",
       "      <th>6</th>\n",
       "      <td>166</td>\n",
       "      <td>Qatar</td>\n",
       "      <td>Qatari Rial(QR)</td>\n",
       "      <td>174.000000</td>\n",
       "    </tr>\n",
       "    <tr>\n",
       "      <th>7</th>\n",
       "      <td>214</td>\n",
       "      <td>United Arab Emirates</td>\n",
       "      <td>Emirati Diram(AED)</td>\n",
       "      <td>153.716667</td>\n",
       "    </tr>\n",
       "    <tr>\n",
       "      <th>8</th>\n",
       "      <td>184</td>\n",
       "      <td>Singapure</td>\n",
       "      <td>Dollar($)</td>\n",
       "      <td>141.437500</td>\n",
       "    </tr>\n",
       "    <tr>\n",
       "      <th>9</th>\n",
       "      <td>30</td>\n",
       "      <td>Brazil</td>\n",
       "      <td>Brazilian Real(R$)</td>\n",
       "      <td>138.812500</td>\n",
       "    </tr>\n",
       "    <tr>\n",
       "      <th>10</th>\n",
       "      <td>208</td>\n",
       "      <td>Turkey</td>\n",
       "      <td>Turkish Lira(TL)</td>\n",
       "      <td>128.584906</td>\n",
       "    </tr>\n",
       "    <tr>\n",
       "      <th>11</th>\n",
       "      <td>148</td>\n",
       "      <td>New Zealand</td>\n",
       "      <td>NewZealand($)</td>\n",
       "      <td>62.154812</td>\n",
       "    </tr>\n",
       "    <tr>\n",
       "      <th>12</th>\n",
       "      <td>216</td>\n",
       "      <td>United States of America</td>\n",
       "      <td>Dollar($)</td>\n",
       "      <td>55.018868</td>\n",
       "    </tr>\n",
       "    <tr>\n",
       "      <th>13</th>\n",
       "      <td>215</td>\n",
       "      <td>England</td>\n",
       "      <td>Pounds(£)</td>\n",
       "      <td>43.510000</td>\n",
       "    </tr>\n",
       "    <tr>\n",
       "      <th>14</th>\n",
       "      <td>37</td>\n",
       "      <td>Canada</td>\n",
       "      <td>Dollar($)</td>\n",
       "      <td>41.861111</td>\n",
       "    </tr>\n",
       "  </tbody>\n",
       "</table>\n",
       "</div>"
      ],
      "text/plain": [
       "    country_code              country_name                currency  \\\n",
       "0             94                 Indonesia  Indonesian Rupiah(IDR)   \n",
       "1             14                 Australia               Dollar($)   \n",
       "2            191                 Sri Lanka   Sri Lankan Rupee(LKR)   \n",
       "3            162               Philippines        Botswana Pula(P)   \n",
       "4              1                     India      Indian Rupees(Rs.)   \n",
       "5            189              South Africa                 Rand(R)   \n",
       "6            166                     Qatar         Qatari Rial(QR)   \n",
       "7            214      United Arab Emirates      Emirati Diram(AED)   \n",
       "8            184                 Singapure               Dollar($)   \n",
       "9             30                    Brazil      Brazilian Real(R$)   \n",
       "10           208                    Turkey        Turkish Lira(TL)   \n",
       "11           148               New Zealand           NewZealand($)   \n",
       "12           216  United States of America               Dollar($)   \n",
       "13           215                   England               Pounds(£)   \n",
       "14            37                    Canada               Dollar($)   \n",
       "\n",
       "    average_cost_for_two  \n",
       "0          303000.000000  \n",
       "1          138959.783333  \n",
       "2            2579.375000  \n",
       "3            1227.825000  \n",
       "4             703.602564  \n",
       "5             339.228324  \n",
       "6             174.000000  \n",
       "7             153.716667  \n",
       "8             141.437500  \n",
       "9             138.812500  \n",
       "10            128.584906  \n",
       "11             62.154812  \n",
       "12             55.018868  \n",
       "13             43.510000  \n",
       "14             41.861111  "
      ]
     },
     "execution_count": 13,
     "metadata": {},
     "output_type": "execute_result"
    }
   ],
   "source": [
    "colunas = ['country_code','country_name','currency','average_cost_for_two']\n",
    "df2 = ( df1.loc[:, colunas]\n",
    "           .groupby(['country_code','country_name','currency']).mean()\n",
    "           .sort_values('average_cost_for_two', ascending=False)\n",
    "           .reset_index() )\n",
    "df2"
   ]
  },
  {
   "attachments": {},
   "cell_type": "markdown",
   "metadata": {},
   "source": [
    "# 3. VISÃO CIDADE (ok)"
   ]
  },
  {
   "attachments": {},
   "cell_type": "markdown",
   "metadata": {},
   "source": [
    "## 3.1. Qual o nome da cidade que possui mais restaurantes registrados?"
   ]
  },
  {
   "cell_type": "code",
   "execution_count": 24,
   "metadata": {},
   "outputs": [
    {
     "name": "stdout",
     "output_type": "stream",
     "text": [
      "As cidades (empatadas) com a maior quantidade de restaurantes registrados são:\n"
     ]
    },
    {
     "data": {
      "text/html": [
       "<div>\n",
       "<style scoped>\n",
       "    .dataframe tbody tr th:only-of-type {\n",
       "        vertical-align: middle;\n",
       "    }\n",
       "\n",
       "    .dataframe tbody tr th {\n",
       "        vertical-align: top;\n",
       "    }\n",
       "\n",
       "    .dataframe thead th {\n",
       "        text-align: right;\n",
       "    }\n",
       "</style>\n",
       "<table border=\"1\" class=\"dataframe\">\n",
       "  <thead>\n",
       "    <tr style=\"text-align: right;\">\n",
       "      <th></th>\n",
       "      <th>index</th>\n",
       "      <th>country_name</th>\n",
       "      <th>city</th>\n",
       "    </tr>\n",
       "  </thead>\n",
       "  <tbody>\n",
       "    <tr>\n",
       "      <th>0</th>\n",
       "      <td>3</td>\n",
       "      <td>Brazil</td>\n",
       "      <td>Brasília</td>\n",
       "    </tr>\n",
       "    <tr>\n",
       "      <th>1</th>\n",
       "      <td>4</td>\n",
       "      <td>Brazil</td>\n",
       "      <td>Rio de Janeiro</td>\n",
       "    </tr>\n",
       "    <tr>\n",
       "      <th>2</th>\n",
       "      <td>5</td>\n",
       "      <td>Brazil</td>\n",
       "      <td>São Paulo</td>\n",
       "    </tr>\n",
       "    <tr>\n",
       "      <th>3</th>\n",
       "      <td>9</td>\n",
       "      <td>England</td>\n",
       "      <td>Birmingham</td>\n",
       "    </tr>\n",
       "    <tr>\n",
       "      <th>4</th>\n",
       "      <td>10</td>\n",
       "      <td>England</td>\n",
       "      <td>Edinburgh</td>\n",
       "    </tr>\n",
       "    <tr>\n",
       "      <th>5</th>\n",
       "      <td>11</td>\n",
       "      <td>England</td>\n",
       "      <td>Glasgow</td>\n",
       "    </tr>\n",
       "    <tr>\n",
       "      <th>6</th>\n",
       "      <td>12</td>\n",
       "      <td>England</td>\n",
       "      <td>London</td>\n",
       "    </tr>\n",
       "    <tr>\n",
       "      <th>7</th>\n",
       "      <td>13</td>\n",
       "      <td>England</td>\n",
       "      <td>Manchester</td>\n",
       "    </tr>\n",
       "    <tr>\n",
       "      <th>8</th>\n",
       "      <td>14</td>\n",
       "      <td>India</td>\n",
       "      <td>Agra</td>\n",
       "    </tr>\n",
       "    <tr>\n",
       "      <th>9</th>\n",
       "      <td>16</td>\n",
       "      <td>India</td>\n",
       "      <td>Allahabad</td>\n",
       "    </tr>\n",
       "    <tr>\n",
       "      <th>10</th>\n",
       "      <td>17</td>\n",
       "      <td>India</td>\n",
       "      <td>Amritsar</td>\n",
       "    </tr>\n",
       "    <tr>\n",
       "      <th>11</th>\n",
       "      <td>18</td>\n",
       "      <td>India</td>\n",
       "      <td>Aurangabad</td>\n",
       "    </tr>\n",
       "    <tr>\n",
       "      <th>12</th>\n",
       "      <td>19</td>\n",
       "      <td>India</td>\n",
       "      <td>Bangalore</td>\n",
       "    </tr>\n",
       "    <tr>\n",
       "      <th>13</th>\n",
       "      <td>20</td>\n",
       "      <td>India</td>\n",
       "      <td>Bhopal</td>\n",
       "    </tr>\n",
       "    <tr>\n",
       "      <th>14</th>\n",
       "      <td>21</td>\n",
       "      <td>India</td>\n",
       "      <td>Bhubaneshwar</td>\n",
       "    </tr>\n",
       "    <tr>\n",
       "      <th>15</th>\n",
       "      <td>23</td>\n",
       "      <td>India</td>\n",
       "      <td>Chennai</td>\n",
       "    </tr>\n",
       "    <tr>\n",
       "      <th>16</th>\n",
       "      <td>24</td>\n",
       "      <td>India</td>\n",
       "      <td>Coimbatore</td>\n",
       "    </tr>\n",
       "    <tr>\n",
       "      <th>17</th>\n",
       "      <td>25</td>\n",
       "      <td>India</td>\n",
       "      <td>Dehradun</td>\n",
       "    </tr>\n",
       "    <tr>\n",
       "      <th>18</th>\n",
       "      <td>27</td>\n",
       "      <td>India</td>\n",
       "      <td>Gangtok</td>\n",
       "    </tr>\n",
       "    <tr>\n",
       "      <th>19</th>\n",
       "      <td>29</td>\n",
       "      <td>India</td>\n",
       "      <td>Goa</td>\n",
       "    </tr>\n",
       "    <tr>\n",
       "      <th>20</th>\n",
       "      <td>31</td>\n",
       "      <td>India</td>\n",
       "      <td>Guwahati</td>\n",
       "    </tr>\n",
       "    <tr>\n",
       "      <th>21</th>\n",
       "      <td>33</td>\n",
       "      <td>India</td>\n",
       "      <td>Indore</td>\n",
       "    </tr>\n",
       "    <tr>\n",
       "      <th>22</th>\n",
       "      <td>34</td>\n",
       "      <td>India</td>\n",
       "      <td>Jaipur</td>\n",
       "    </tr>\n",
       "    <tr>\n",
       "      <th>23</th>\n",
       "      <td>35</td>\n",
       "      <td>India</td>\n",
       "      <td>Kanpur</td>\n",
       "    </tr>\n",
       "    <tr>\n",
       "      <th>24</th>\n",
       "      <td>36</td>\n",
       "      <td>India</td>\n",
       "      <td>Kochi</td>\n",
       "    </tr>\n",
       "    <tr>\n",
       "      <th>25</th>\n",
       "      <td>37</td>\n",
       "      <td>India</td>\n",
       "      <td>Kolkata</td>\n",
       "    </tr>\n",
       "    <tr>\n",
       "      <th>26</th>\n",
       "      <td>38</td>\n",
       "      <td>India</td>\n",
       "      <td>Lucknow</td>\n",
       "    </tr>\n",
       "    <tr>\n",
       "      <th>27</th>\n",
       "      <td>39</td>\n",
       "      <td>India</td>\n",
       "      <td>Ludhiana</td>\n",
       "    </tr>\n",
       "    <tr>\n",
       "      <th>28</th>\n",
       "      <td>40</td>\n",
       "      <td>India</td>\n",
       "      <td>Mangalore</td>\n",
       "    </tr>\n",
       "    <tr>\n",
       "      <th>29</th>\n",
       "      <td>43</td>\n",
       "      <td>India</td>\n",
       "      <td>Mysore</td>\n",
       "    </tr>\n",
       "    <tr>\n",
       "      <th>30</th>\n",
       "      <td>44</td>\n",
       "      <td>India</td>\n",
       "      <td>Nagpur</td>\n",
       "    </tr>\n",
       "    <tr>\n",
       "      <th>31</th>\n",
       "      <td>49</td>\n",
       "      <td>India</td>\n",
       "      <td>Ooty</td>\n",
       "    </tr>\n",
       "    <tr>\n",
       "      <th>32</th>\n",
       "      <td>51</td>\n",
       "      <td>India</td>\n",
       "      <td>Patna</td>\n",
       "    </tr>\n",
       "    <tr>\n",
       "      <th>33</th>\n",
       "      <td>52</td>\n",
       "      <td>India</td>\n",
       "      <td>Puducherry</td>\n",
       "    </tr>\n",
       "    <tr>\n",
       "      <th>34</th>\n",
       "      <td>53</td>\n",
       "      <td>India</td>\n",
       "      <td>Pune</td>\n",
       "    </tr>\n",
       "    <tr>\n",
       "      <th>35</th>\n",
       "      <td>54</td>\n",
       "      <td>India</td>\n",
       "      <td>Ranchi</td>\n",
       "    </tr>\n",
       "    <tr>\n",
       "      <th>36</th>\n",
       "      <td>56</td>\n",
       "      <td>India</td>\n",
       "      <td>Shimla</td>\n",
       "    </tr>\n",
       "    <tr>\n",
       "      <th>37</th>\n",
       "      <td>57</td>\n",
       "      <td>India</td>\n",
       "      <td>Surat</td>\n",
       "    </tr>\n",
       "    <tr>\n",
       "      <th>38</th>\n",
       "      <td>59</td>\n",
       "      <td>India</td>\n",
       "      <td>Vadodara</td>\n",
       "    </tr>\n",
       "    <tr>\n",
       "      <th>39</th>\n",
       "      <td>60</td>\n",
       "      <td>India</td>\n",
       "      <td>Varanasi</td>\n",
       "    </tr>\n",
       "    <tr>\n",
       "      <th>40</th>\n",
       "      <td>61</td>\n",
       "      <td>India</td>\n",
       "      <td>Vizag</td>\n",
       "    </tr>\n",
       "    <tr>\n",
       "      <th>41</th>\n",
       "      <td>67</td>\n",
       "      <td>New Zealand</td>\n",
       "      <td>Hamilton</td>\n",
       "    </tr>\n",
       "    <tr>\n",
       "      <th>42</th>\n",
       "      <td>82</td>\n",
       "      <td>Qatar</td>\n",
       "      <td>Doha</td>\n",
       "    </tr>\n",
       "    <tr>\n",
       "      <th>43</th>\n",
       "      <td>83</td>\n",
       "      <td>Singapure</td>\n",
       "      <td>Singapore</td>\n",
       "    </tr>\n",
       "    <tr>\n",
       "      <th>44</th>\n",
       "      <td>84</td>\n",
       "      <td>South Africa</td>\n",
       "      <td>Cape Town</td>\n",
       "    </tr>\n",
       "    <tr>\n",
       "      <th>45</th>\n",
       "      <td>86</td>\n",
       "      <td>South Africa</td>\n",
       "      <td>Durban</td>\n",
       "    </tr>\n",
       "    <tr>\n",
       "      <th>46</th>\n",
       "      <td>92</td>\n",
       "      <td>South Africa</td>\n",
       "      <td>Pretoria</td>\n",
       "    </tr>\n",
       "    <tr>\n",
       "      <th>47</th>\n",
       "      <td>96</td>\n",
       "      <td>Sri Lanka</td>\n",
       "      <td>Colombo</td>\n",
       "    </tr>\n",
       "    <tr>\n",
       "      <th>48</th>\n",
       "      <td>97</td>\n",
       "      <td>Turkey</td>\n",
       "      <td>Ankara</td>\n",
       "    </tr>\n",
       "    <tr>\n",
       "      <th>49</th>\n",
       "      <td>99</td>\n",
       "      <td>United Arab Emirates</td>\n",
       "      <td>Abu Dhabi</td>\n",
       "    </tr>\n",
       "    <tr>\n",
       "      <th>50</th>\n",
       "      <td>100</td>\n",
       "      <td>United Arab Emirates</td>\n",
       "      <td>Dubai</td>\n",
       "    </tr>\n",
       "    <tr>\n",
       "      <th>51</th>\n",
       "      <td>102</td>\n",
       "      <td>United Arab Emirates</td>\n",
       "      <td>Sharjah</td>\n",
       "    </tr>\n",
       "    <tr>\n",
       "      <th>52</th>\n",
       "      <td>104</td>\n",
       "      <td>United States of America</td>\n",
       "      <td>Austin</td>\n",
       "    </tr>\n",
       "    <tr>\n",
       "      <th>53</th>\n",
       "      <td>108</td>\n",
       "      <td>United States of America</td>\n",
       "      <td>Dallas</td>\n",
       "    </tr>\n",
       "    <tr>\n",
       "      <th>54</th>\n",
       "      <td>111</td>\n",
       "      <td>United States of America</td>\n",
       "      <td>Houston</td>\n",
       "    </tr>\n",
       "  </tbody>\n",
       "</table>\n",
       "</div>"
      ],
      "text/plain": [
       "    index              country_name            city\n",
       "0       3                    Brazil        Brasília\n",
       "1       4                    Brazil  Rio de Janeiro\n",
       "2       5                    Brazil       São Paulo\n",
       "3       9                   England      Birmingham\n",
       "4      10                   England       Edinburgh\n",
       "5      11                   England         Glasgow\n",
       "6      12                   England          London\n",
       "7      13                   England      Manchester\n",
       "8      14                     India            Agra\n",
       "9      16                     India       Allahabad\n",
       "10     17                     India        Amritsar\n",
       "11     18                     India      Aurangabad\n",
       "12     19                     India       Bangalore\n",
       "13     20                     India          Bhopal\n",
       "14     21                     India    Bhubaneshwar\n",
       "15     23                     India         Chennai\n",
       "16     24                     India      Coimbatore\n",
       "17     25                     India        Dehradun\n",
       "18     27                     India         Gangtok\n",
       "19     29                     India             Goa\n",
       "20     31                     India        Guwahati\n",
       "21     33                     India          Indore\n",
       "22     34                     India          Jaipur\n",
       "23     35                     India          Kanpur\n",
       "24     36                     India           Kochi\n",
       "25     37                     India         Kolkata\n",
       "26     38                     India         Lucknow\n",
       "27     39                     India        Ludhiana\n",
       "28     40                     India       Mangalore\n",
       "29     43                     India          Mysore\n",
       "30     44                     India          Nagpur\n",
       "31     49                     India            Ooty\n",
       "32     51                     India           Patna\n",
       "33     52                     India      Puducherry\n",
       "34     53                     India            Pune\n",
       "35     54                     India          Ranchi\n",
       "36     56                     India          Shimla\n",
       "37     57                     India           Surat\n",
       "38     59                     India        Vadodara\n",
       "39     60                     India        Varanasi\n",
       "40     61                     India           Vizag\n",
       "41     67               New Zealand        Hamilton\n",
       "42     82                     Qatar            Doha\n",
       "43     83                 Singapure       Singapore\n",
       "44     84              South Africa       Cape Town\n",
       "45     86              South Africa          Durban\n",
       "46     92              South Africa        Pretoria\n",
       "47     96                 Sri Lanka         Colombo\n",
       "48     97                    Turkey          Ankara\n",
       "49     99      United Arab Emirates       Abu Dhabi\n",
       "50    100      United Arab Emirates           Dubai\n",
       "51    102      United Arab Emirates         Sharjah\n",
       "52    104  United States of America          Austin\n",
       "53    108  United States of America          Dallas\n",
       "54    111  United States of America         Houston"
      ]
     },
     "execution_count": 24,
     "metadata": {},
     "output_type": "execute_result"
    }
   ],
   "source": [
    "colunas = ['country_name','city','restaurant_id']\n",
    "df2 = ( df1.loc[:, colunas]\n",
    "           .groupby(['country_name','city']).count()\n",
    "           .sort_values(by='restaurant_id', ascending=False)\n",
    "           .sort_values(by=['country_name','city'])\n",
    "           .reset_index() )\n",
    "max_restaurants = df2.loc[0, 'restaurant_id']\n",
    "linhas = df2['restaurant_id'] == 80\n",
    "df3 = df2.loc[linhas, ['country_name','city']].reset_index()\n",
    "print(\"As cidades (empatadas) com a maior quantidade de restaurantes registrados são:\")\n",
    "df3"
   ]
  },
  {
   "attachments": {},
   "cell_type": "markdown",
   "metadata": {},
   "source": [
    "## 3.2. Qual o nome da cidade que possui mais restaurantes com nota média acima de 4?"
   ]
  },
  {
   "cell_type": "code",
   "execution_count": 30,
   "metadata": {},
   "outputs": [
    {
     "name": "stdout",
     "output_type": "stream",
     "text": [
      "A cidade com mais restaurantes ranqueados acima de 4 é: Bangalore em India\n"
     ]
    }
   ],
   "source": [
    "#   Aggregate rating. . : float, values = [ 0. , ..., 4.9 ]\n",
    "colunas = ['country_name','city','aggregate_rating']\n",
    "linhas = df1['aggregate_rating'] > 4.0\n",
    "df2 = df1.loc[linhas, colunas].copy()\n",
    "df3 = ( df2.loc[:, colunas]\n",
    "           .groupby(['country_name','city']).count()\n",
    "           .sort_values(by='aggregate_rating', ascending=False)\n",
    "           .reset_index() )\n",
    "# Colecting answer\n",
    "city_level4 = df3.loc[0,'city']\n",
    "country_level4 = df3.loc[0,'country_name']\n",
    "print(f\"A cidade com mais restaurantes ranqueados acima de 4 é: {city_level4} em {country_level4}\")"
   ]
  },
  {
   "attachments": {},
   "cell_type": "markdown",
   "metadata": {},
   "source": [
    "## 3.3. Qual o nome da cidade que possui mais restaurantes com nota média abaixo de 2.5?"
   ]
  },
  {
   "cell_type": "code",
   "execution_count": 29,
   "metadata": {},
   "outputs": [
    {
     "name": "stdout",
     "output_type": "stream",
     "text": [
      "A cidade com mais restaurantes ranqueados abaixo de 2,5 é: Gangtok em India\n"
     ]
    }
   ],
   "source": [
    "#   Aggregate rating. . : float, values = [ 0. , ..., 4.9 ]\n",
    "colunas = ['country_name','city','aggregate_rating']\n",
    "linhas = df1['aggregate_rating'] < 2.5\n",
    "df2 = df1.loc[linhas, colunas].copy()\n",
    "df3 = ( df2.loc[:, colunas]\n",
    "           .groupby(['country_name','city']).count()\n",
    "           .sort_values(by='aggregate_rating', ascending=False)\n",
    "           .reset_index() )\n",
    "# Colecting answer\n",
    "city_level25 = df3.loc[0,'city']\n",
    "country_level25 = df3.loc[0,'country_name']\n",
    "print(f\"A cidade com mais restaurantes ranqueados abaixo de 2,5 é: {city_level25} em {country_level25}\")"
   ]
  },
  {
   "attachments": {},
   "cell_type": "markdown",
   "metadata": {},
   "source": [
    "## 3.4. Qual o nome da cidade que possui o maior valor médio de um prato para dois?"
   ]
  },
  {
   "cell_type": "code",
   "execution_count": 17,
   "metadata": {},
   "outputs": [
    {
     "name": "stdout",
     "output_type": "stream",
     "text": [
      "A cidade com o maior valor médio de um prato para dois é:\n",
      "Adelaide em Australia\n",
      "Custo médio = 416734.13 na moeda local 'Dollar($)'\n"
     ]
    }
   ],
   "source": [
    "#   Average Cost for two: int. Question: in which currency??\n",
    "colunas = ['country_name','city','currency','average_cost_for_two']\n",
    "df2 = ( df1.loc[:, colunas]\n",
    "           .groupby(['country_name','city','currency']).mean()\n",
    "           .sort_values(by='average_cost_for_two', ascending=False)\n",
    "           .reset_index() )\n",
    "\n",
    "# Colecting answer\n",
    "city_costfor2 = df2.loc[0,'city']\n",
    "country_costfor2 = df2.loc[0,'country_name']\n",
    "mean_costfor2 = round( df2.loc[0,'average_cost_for_two'],2 )\n",
    "currency_costfor2 = df2.loc[0,'currency']\n",
    "print(\"A cidade com o maior valor médio de um prato para dois é:\")\n",
    "print(f\"{city_costfor2} em {country_costfor2}\")\n",
    "print(f\"Custo médio = {mean_costfor2} na moeda local '{currency_costfor2}'\")"
   ]
  },
  {
   "attachments": {},
   "cell_type": "markdown",
   "metadata": {},
   "source": [
    "## 3.5. Qual o nome da cidade que possui a maior quantidade de tipos de culinária distintas?"
   ]
  },
  {
   "cell_type": "code",
   "execution_count": 71,
   "metadata": {},
   "outputs": [
    {
     "name": "stdout",
     "output_type": "stream",
     "text": [
      "A cidade com a maior quantidade de tipos culinários é: Birmingham em England\n"
     ]
    }
   ],
   "source": [
    "# Monta df com as culinarias únicas por cidade\n",
    "colunas = ['country_name','city','unique_cuisine','restaurant_id']\n",
    "df2 = df1.loc[:, colunas].groupby(['country_name','city','unique_cuisine']).count().reset_index()\n",
    "# Conta quantas culinárias únicas por cidade\n",
    "colunas = ['country_name','city','unique_cuisine']\n",
    "df3 = df2.loc[:, colunas].groupby(['country_name','city']).count().sort_values(by='unique_cuisine', ascending=False).reset_index()\n",
    "#display(df3)\n",
    "# Coleta os resultados\n",
    "city_max_cuisines = df3.loc[0, 'city']\n",
    "country_max_cuisines = df3.loc[0, 'country_name']\n",
    "print(f\"A cidade com a maior quantidade de tipos culinários é: {city_max_cuisines} em {country_max_cuisines}\")"
   ]
  },
  {
   "attachments": {},
   "cell_type": "markdown",
   "metadata": {},
   "source": [
    "## 3.6. Qual o nome da cidade que possui a maior quantidade de restaurantes que fazem reservas?"
   ]
  },
  {
   "cell_type": "code",
   "execution_count": 86,
   "metadata": {},
   "outputs": [
    {
     "name": "stdout",
     "output_type": "stream",
     "text": [
      "A cidade com a maior quantidade de restaurantes que fazem reservas é: Bangalore em India\n"
     ]
    }
   ],
   "source": [
    "#  *Has Table booking   : int, values = [ 0, 1 ]\n",
    "#   Has Online delivery : int, values = [ 0, 1 ]\n",
    "#   Is delivering now   : int, values = [ 0, 1 ]\n",
    "\n",
    "colunas = ['country_name','city','has_table_booking']\n",
    "linhas = (df1['has_table_booking'] == 1)\n",
    "df2 = df1.loc[linhas, colunas].groupby(['country_name','city']).count().sort_values(by='has_table_booking', ascending=False).reset_index()\n",
    "# Coleta resultados\n",
    "city_max_bookings = df2.loc[0, 'city']\n",
    "country_city_max_bookings = df2.loc[0, 'country_name']\n",
    "print(f\"A cidade com a maior quantidade de restaurantes que fazem reservas é: {city_max_bookings} em {country_city_max_bookings}\")"
   ]
  },
  {
   "attachments": {},
   "cell_type": "markdown",
   "metadata": {},
   "source": [
    "## 3.7. Qual o nome da cidade que possui a maior quantidade de restaurantes que fazem entregas?"
   ]
  },
  {
   "cell_type": "code",
   "execution_count": 89,
   "metadata": {},
   "outputs": [
    {
     "name": "stdout",
     "output_type": "stream",
     "text": [
      "A cidade com a maior quantidade de restaurantes que fazem reservas é: Bhopal em India\n"
     ]
    }
   ],
   "source": [
    "#   Has Table booking   : int, values = [ 0, 1 ]\n",
    "#  *Has Online delivery : int, values = [ 0, 1 ]\n",
    "#   Is delivering now   : int, values = [ 0, 1 ]\n",
    "\n",
    "colunas = ['country_name','city','has_online_delivery']\n",
    "linhas = (df1['has_online_delivery'] == 1)\n",
    "df2 = df1.loc[linhas, colunas].groupby(['country_name','city']).count().sort_values(by='has_online_delivery', ascending=False).reset_index()\n",
    "# Coleta resultados\n",
    "city_max_deliveries = df2.loc[0, 'city']\n",
    "country_city_max_deliveries = df2.loc[0, 'country_name']\n",
    "print(f\"A cidade com a maior quantidade de restaurantes que fazem reservas é: {city_max_deliveries} em {country_city_max_deliveries}\")"
   ]
  },
  {
   "attachments": {},
   "cell_type": "markdown",
   "metadata": {},
   "source": [
    "## 3.8. Qual o nome da cidade que possui a maior quantidade de restaurantes que aceitam pedidos online?"
   ]
  },
  {
   "cell_type": "code",
   "execution_count": 92,
   "metadata": {},
   "outputs": [
    {
     "name": "stdout",
     "output_type": "stream",
     "text": [
      "A cidade com a maior quantidade de restaurantes que fazem reservas é: Amritsar em India\n"
     ]
    }
   ],
   "source": [
    "#   Has Table booking   : int, values = [ 0, 1 ]\n",
    "#   Has Online delivery : int, values = [ 0, 1 ]\n",
    "#  *Is delivering now   : int, values = [ 0, 1 ]\n",
    "\n",
    "colunas = ['country_name','city','is_delivering_now']\n",
    "linhas = (df1['is_delivering_now'] == 1)\n",
    "df2 = df1.loc[linhas, colunas].groupby(['country_name','city']).count().sort_values(by='is_delivering_now', ascending=False).reset_index()\n",
    "# Coleta resultados\n",
    "city_max_online = df2.loc[0, 'city']\n",
    "country_city_max_online = df2.loc[0, 'country_name']\n",
    "print(f\"A cidade com a maior quantidade de restaurantes que fazem reservas é: {city_max_online} em {country_city_max_online}\")"
   ]
  },
  {
   "attachments": {},
   "cell_type": "markdown",
   "metadata": {},
   "source": [
    "# 4. VISÃO RESTAURANTES (ok)"
   ]
  },
  {
   "attachments": {},
   "cell_type": "markdown",
   "metadata": {},
   "source": [
    "## 4.1. Qual o nome do restaurante que possui a maior quantidade de avaliações?"
   ]
  },
  {
   "cell_type": "code",
   "execution_count": 124,
   "metadata": {},
   "outputs": [
    {
     "name": "stdout",
     "output_type": "stream",
     "text": [
      "O restaurante com maior quantidade de avaliações é: Bawarchi\n"
     ]
    }
   ],
   "source": [
    "colunas = ['restaurant_id','restaurant_name','votes']\n",
    "df2 = df1.loc[:, colunas].sort_values(by='votes',ascending=False).reset_index()\n",
    "restaurant_most_voted = df2.loc[0, 'restaurant_name']\n",
    "print(f\"O restaurante com maior quantidade de avaliações é: {restaurant_most_voted}\")"
   ]
  },
  {
   "attachments": {},
   "cell_type": "markdown",
   "metadata": {},
   "source": [
    "## 4.2. Qual o nome do restaurante com a maior nota média?"
   ]
  },
  {
   "cell_type": "code",
   "execution_count": 103,
   "metadata": {},
   "outputs": [
    {
     "name": "stdout",
     "output_type": "stream",
     "text": [
      "A maior nota dada a um restaurante é: 4.9\n",
      "O restaurante com a maior nota é: Indian Grill Room\n"
     ]
    }
   ],
   "source": [
    "colunas = ['restaurant_id','restaurant_name','aggregate_rating']\n",
    "df2 = df1.loc[:, colunas].sort_values(by='aggregate_rating',ascending=False).reset_index()\n",
    "restaurant_hihger_rating = df2.loc[0, 'aggregate_rating']\n",
    "linhas = df2['aggregate_rating']==restaurant_hihger_rating\n",
    "df3 = df2.loc[linhas,:].sort_values(by='restaurant_id').reset_index()\n",
    "restaurant_hihger_rating_name = df3.loc[0, 'restaurant_name']\n",
    "# Show results\n",
    "print(f\"A maior nota dada a um restaurante é: {restaurant_hihger_rating}\")\n",
    "print(f\"O restaurante com a maior nota é: {restaurant_hihger_rating_name}\")"
   ]
  },
  {
   "attachments": {},
   "cell_type": "markdown",
   "metadata": {},
   "source": [
    "## 4.3. Qual o nome do restaurante que possui o maior valor de uma prato para duas pessoas?"
   ]
  },
  {
   "cell_type": "code",
   "execution_count": 107,
   "metadata": {},
   "outputs": [
    {
     "name": "stdout",
     "output_type": "stream",
     "text": [
      "O maior preço de prato para dois é: 25000017\n",
      "O restaurante esse maior preço é: d'Arry's Verandah Restaurant\n"
     ]
    }
   ],
   "source": [
    "colunas = ['restaurant_id','restaurant_name','average_cost_for_two']\n",
    "df2 = df1.loc[:, colunas].sort_values(by='average_cost_for_two',ascending=False).reset_index()\n",
    "restaurant_hihger_cost2 = df2.loc[0, 'average_cost_for_two']\n",
    "linhas = df2['average_cost_for_two']==restaurant_hihger_cost2\n",
    "df3 = df2.loc[linhas,:].sort_values(by='restaurant_id').reset_index()\n",
    "restaurant_hihger_cost2_name = df3.loc[0, 'restaurant_name']\n",
    "# Show results\n",
    "print(f\"O maior preço de prato para dois é: {restaurant_hihger_cost2}\")\n",
    "print(f\"O restaurante esse maior preço é: {restaurant_hihger_cost2_name}\")"
   ]
  },
  {
   "attachments": {},
   "cell_type": "markdown",
   "metadata": {},
   "source": [
    "## 4.4. Qual o nome do restaurante de tipo de culinária brasileira que possui a menor média de avaliação?"
   ]
  },
  {
   "cell_type": "code",
   "execution_count": 117,
   "metadata": {},
   "outputs": [
    {
     "name": "stdout",
     "output_type": "stream",
     "text": [
      "A menor avaliação para restaurante de culinária brasileira é = 0.0\n",
      "O restaurante de culinária de tipo brasileira com menor avaliação é: Loca Como tu Madre\n"
     ]
    }
   ],
   "source": [
    "colunas = ['restaurant_id','restaurant_name','aggregate_rating']\n",
    "linhas = df1['unique_cuisine']=='Brazilian'\n",
    "df2 = df1.loc[linhas, colunas].sort_values(by=['aggregate_rating','restaurant_id']).reset_index()\n",
    "# Coleta resultados\n",
    "br_restaurant_lowest_rating = df2.loc[0, 'aggregate_rating']\n",
    "br_restaurant_lowest_rating_name = df2.loc[0, 'restaurant_name']\n",
    "print(f\"A menor avaliação para restaurante de culinária brasileira é = {br_restaurant_lowest_rating}\")\n",
    "print(f\"O restaurante de culinária de tipo brasileira com menor avaliação é: {br_restaurant_lowest_rating_name}\")"
   ]
  },
  {
   "attachments": {},
   "cell_type": "markdown",
   "metadata": {},
   "source": [
    "## 4.5. Qual o nome do restaurante de tipo de culinária brasileira, e que é do Brasil, que possui a maior média de avaliação?"
   ]
  },
  {
   "cell_type": "code",
   "execution_count": 122,
   "metadata": {},
   "outputs": [
    {
     "name": "stdout",
     "output_type": "stream",
     "text": [
      "No Brasil, o restaurante de culinária brasileira com maior avaliação é: Braseiro da Gávea\n"
     ]
    }
   ],
   "source": [
    "colunas = ['restaurant_id','restaurant_name','aggregate_rating']\n",
    "linhas = (df1['unique_cuisine']=='Brazilian') & (df1['country_name']=='Brazil')\n",
    "df2 = df1.loc[linhas, colunas].sort_values(by='aggregate_rating', ascending=False).reset_index()\n",
    "higher_rating = df2.loc[0, 'aggregate_rating']\n",
    "linhas = df2['aggregate_rating']==higher_rating\n",
    "df3 = df2.loc[linhas,:].sort_values(by='restaurant_id').reset_index()\n",
    "br_restaurant_higher_rating_name = df3.loc[0, 'restaurant_name']\n",
    "print(f\"No Brasil, o restaurante de culinária brasileira com maior avaliação é: {br_restaurant_higher_rating_name}\")"
   ]
  },
  {
   "attachments": {},
   "cell_type": "markdown",
   "metadata": {},
   "source": [
    "## 4.6. Os restaurantes que aceitam pedido online são também, na média, os restaurantes que mais possuem avaliações registradas?"
   ]
  },
  {
   "cell_type": "code",
   "execution_count": 128,
   "metadata": {},
   "outputs": [
    {
     "name": "stdout",
     "output_type": "stream",
     "text": [
      "SIM. Os que aceitam pedidos online são os mais avaliados\n"
     ]
    },
    {
     "data": {
      "text/html": [
       "<div>\n",
       "<style scoped>\n",
       "    .dataframe tbody tr th:only-of-type {\n",
       "        vertical-align: middle;\n",
       "    }\n",
       "\n",
       "    .dataframe tbody tr th {\n",
       "        vertical-align: top;\n",
       "    }\n",
       "\n",
       "    .dataframe thead th {\n",
       "        text-align: right;\n",
       "    }\n",
       "</style>\n",
       "<table border=\"1\" class=\"dataframe\">\n",
       "  <thead>\n",
       "    <tr style=\"text-align: right;\">\n",
       "      <th></th>\n",
       "      <th>is_delivering_now</th>\n",
       "      <th>votes</th>\n",
       "    </tr>\n",
       "  </thead>\n",
       "  <tbody>\n",
       "    <tr>\n",
       "      <th>0</th>\n",
       "      <td>0</td>\n",
       "      <td>575.861955</td>\n",
       "    </tr>\n",
       "    <tr>\n",
       "      <th>1</th>\n",
       "      <td>1</td>\n",
       "      <td>739.228548</td>\n",
       "    </tr>\n",
       "  </tbody>\n",
       "</table>\n",
       "</div>"
      ],
      "text/plain": [
       "   is_delivering_now       votes\n",
       "0                  0  575.861955\n",
       "1                  1  739.228548"
      ]
     },
     "metadata": {},
     "output_type": "display_data"
    }
   ],
   "source": [
    "#   Has Table booking   : int, values = [ 0, 1 ]\n",
    "#   Has Online delivery : int, values = [ 0, 1 ]\n",
    "#  *Is delivering now   : int, values = [ 0, 1 ]\n",
    "colunas = ['is_delivering_now','votes']\n",
    "df2 = ( df1.loc[:, colunas]\n",
    "           .groupby('is_delivering_now').mean()\n",
    "           .sort_values(by='is_delivering_now')\n",
    "           .reset_index() )\n",
    "not_delivering = df2.loc[0,'votes']\n",
    "delivering = df2.loc[1,'votes']\n",
    "delivering_has_more_votes = True\n",
    "if delivering > not_delivering:\n",
    "    print(\"SIM. Os que aceitam pedidos online são os mais avaliados\")\n",
    "else:\n",
    "    delivering_has_more_votes = False\n",
    "    print(\"NÃO. Os mais avaliados são os que não aceitam pedidos online\")\n",
    "display(df2)"
   ]
  },
  {
   "attachments": {},
   "cell_type": "markdown",
   "metadata": {},
   "source": [
    "## 4.7. Os restaurantes que fazem reservas são também, na média, os restaurantes que possuem o maior valor médio de um prato para duas pessoas?"
   ]
  },
  {
   "cell_type": "code",
   "execution_count": 130,
   "metadata": {},
   "outputs": [
    {
     "name": "stdout",
     "output_type": "stream",
     "text": [
      "NÃO. Os mais caros para duas pessoas são os que não aceitam pedidos online\n"
     ]
    },
    {
     "data": {
      "text/html": [
       "<div>\n",
       "<style scoped>\n",
       "    .dataframe tbody tr th:only-of-type {\n",
       "        vertical-align: middle;\n",
       "    }\n",
       "\n",
       "    .dataframe tbody tr th {\n",
       "        vertical-align: top;\n",
       "    }\n",
       "\n",
       "    .dataframe thead th {\n",
       "        text-align: right;\n",
       "    }\n",
       "</style>\n",
       "<table border=\"1\" class=\"dataframe\">\n",
       "  <thead>\n",
       "    <tr style=\"text-align: right;\">\n",
       "      <th></th>\n",
       "      <th>is_delivering_now</th>\n",
       "      <th>average_cost_for_two</th>\n",
       "    </tr>\n",
       "  </thead>\n",
       "  <tbody>\n",
       "    <tr>\n",
       "      <th>0</th>\n",
       "      <td>0</td>\n",
       "      <td>8979.354276</td>\n",
       "    </tr>\n",
       "    <tr>\n",
       "      <th>1</th>\n",
       "      <td>1</td>\n",
       "      <td>543.704620</td>\n",
       "    </tr>\n",
       "  </tbody>\n",
       "</table>\n",
       "</div>"
      ],
      "text/plain": [
       "   is_delivering_now  average_cost_for_two\n",
       "0                  0           8979.354276\n",
       "1                  1            543.704620"
      ]
     },
     "metadata": {},
     "output_type": "display_data"
    }
   ],
   "source": [
    "#   Has Table booking   : int, values = [ 0, 1 ]\n",
    "#   Has Online delivery : int, values = [ 0, 1 ]\n",
    "#  *Is delivering now   : int, values = [ 0, 1 ]\n",
    "colunas = ['is_delivering_now','average_cost_for_two']\n",
    "df2 = ( df1.loc[:, colunas]\n",
    "           .groupby('is_delivering_now').mean()\n",
    "           .sort_values(by='is_delivering_now')\n",
    "           .reset_index() )\n",
    "not_delivering = df2.loc[0,'average_cost_for_two']\n",
    "delivering = df2.loc[1,'average_cost_for_two']\n",
    "delivering_cost_more_for2 = True\n",
    "if delivering > not_delivering:\n",
    "    print(\"SIM. Os que aceitam pedidos online são os que têm maior valor médio de prato para dois\")\n",
    "else:\n",
    "    delivering_cost_more_for2 = False\n",
    "    print(\"NÃO. Os mais caros para duas pessoas são os que não aceitam pedidos online\")\n",
    "display(df2)"
   ]
  },
  {
   "attachments": {},
   "cell_type": "markdown",
   "metadata": {},
   "source": [
    "## 4.8. Os restaurantes do tipo de culinária japonesa dos Estados Unidos da América possuem um valor médio de prato para duas pessoas maior que as churrascarias americanas (BBQ)?"
   ]
  },
  {
   "cell_type": "code",
   "execution_count": 149,
   "metadata": {},
   "outputs": [
    {
     "name": "stdout",
     "output_type": "stream",
     "text": [
      "SIM. Nos EUA, culinária japonesa é mais cara do que churrasco\n"
     ]
    },
    {
     "data": {
      "text/html": [
       "<div>\n",
       "<style scoped>\n",
       "    .dataframe tbody tr th:only-of-type {\n",
       "        vertical-align: middle;\n",
       "    }\n",
       "\n",
       "    .dataframe tbody tr th {\n",
       "        vertical-align: top;\n",
       "    }\n",
       "\n",
       "    .dataframe thead th {\n",
       "        text-align: right;\n",
       "    }\n",
       "</style>\n",
       "<table border=\"1\" class=\"dataframe\">\n",
       "  <thead>\n",
       "    <tr style=\"text-align: right;\">\n",
       "      <th></th>\n",
       "      <th>country_code</th>\n",
       "      <th>country_name</th>\n",
       "      <th>unique_cuisine</th>\n",
       "      <th>average_cost_for_two</th>\n",
       "    </tr>\n",
       "  </thead>\n",
       "  <tbody>\n",
       "    <tr>\n",
       "      <th>0</th>\n",
       "      <td>216</td>\n",
       "      <td>United States of America</td>\n",
       "      <td>BBQ</td>\n",
       "      <td>39.642857</td>\n",
       "    </tr>\n",
       "    <tr>\n",
       "      <th>1</th>\n",
       "      <td>216</td>\n",
       "      <td>United States of America</td>\n",
       "      <td>Japanese</td>\n",
       "      <td>56.406250</td>\n",
       "    </tr>\n",
       "  </tbody>\n",
       "</table>\n",
       "</div>"
      ],
      "text/plain": [
       "   country_code              country_name unique_cuisine  average_cost_for_two\n",
       "0           216  United States of America            BBQ             39.642857\n",
       "1           216  United States of America       Japanese             56.406250"
      ]
     },
     "execution_count": 149,
     "metadata": {},
     "output_type": "execute_result"
    }
   ],
   "source": [
    "colunas = ['country_code','country_name','unique_cuisine','average_cost_for_two']\n",
    "linhas = (df1['country_name']=='United States of America') & ((df1['unique_cuisine']=='Japanese') | (df1['unique_cuisine']=='BBQ'))\n",
    "df2 = df1.loc[linhas, colunas].groupby(['country_code','country_name','unique_cuisine']).mean().sort_values(by='unique_cuisine').reset_index()\n",
    "us_bbq_for2 = df2.loc[0, 'average_cost_for_two']\n",
    "us_jap_for2 = df2.loc[1, 'average_cost_for_two']\n",
    "us_jap_more_expensive_than_bbq = False\n",
    "if us_bbq_for2 > us_jap_for2:\n",
    "    print(\"NÃO. Nos EUA, o churrasco é mais caro do que a culinária japonesa\")\n",
    "else:\n",
    "    us_jap_more_expensive_than_bbq = True\n",
    "    print(\"SIM. Nos EUA, culinária japonesa é mais cara do que churrasco\")\n",
    "df2"
   ]
  },
  {
   "attachments": {},
   "cell_type": "markdown",
   "metadata": {},
   "source": [
    "# 5. VISÃO CULINÁRIA (ok)"
   ]
  },
  {
   "attachments": {},
   "cell_type": "markdown",
   "metadata": {},
   "source": [
    "## 5.1. Dos restaurantes que possuem o tipo de culinária italiana, qual o nome do restaurante com a maior média de avaliação?"
   ]
  },
  {
   "cell_type": "code",
   "execution_count": 6,
   "metadata": {},
   "outputs": [
    {
     "name": "stdout",
     "output_type": "stream",
     "text": [
      "O restaurante de culinária italiana melhor avaliado é: Darshan\n",
      "Nota = 4.9\n"
     ]
    }
   ],
   "source": [
    "colunas = ['restaurant_id','restaurant_name','unique_cuisine','aggregate_rating']\n",
    "linhas = (df1['unique_cuisine']=='Italian')\n",
    "df2 = df1.loc[linhas, colunas].copy()\n",
    "df3 = df2.sort_values(by='aggregate_rating', ascending=False).reset_index()\n",
    "max_rating = df3.loc[0, 'aggregate_rating']\n",
    "linhas = df3['aggregate_rating']==max_rating\n",
    "df4 = df3.loc[linhas,:].sort_values(by='restaurant_id').reset_index()\n",
    "italian_food_best_ranked = df4.loc[0,'restaurant_name']\n",
    "print(f\"O restaurante de culinária italiana melhor avaliado é: {italian_food_best_ranked}\")\n",
    "print(f\"Nota = {max_rating}\")\n"
   ]
  },
  {
   "attachments": {},
   "cell_type": "markdown",
   "metadata": {},
   "source": [
    "## 5.2. Dos restaurantes que possuem o tipo de culinária italiana, qual o nome do restaurante com a menor média de avaliação?"
   ]
  },
  {
   "cell_type": "code",
   "execution_count": 170,
   "metadata": {},
   "outputs": [
    {
     "name": "stdout",
     "output_type": "stream",
     "text": [
      "O restaurante de culinária italiana pior avaliado é: Avenida Paulista\n",
      "Nota = 0.0\n"
     ]
    }
   ],
   "source": [
    "colunas = ['restaurant_id','restaurant_name','unique_cuisine','aggregate_rating']\n",
    "linhas = (df1['unique_cuisine']=='Italian')\n",
    "df2 = df1.loc[linhas, colunas].copy()\n",
    "df3 = df2.sort_values(by='aggregate_rating').reset_index()\n",
    "min_rating = df3.loc[0, 'aggregate_rating']\n",
    "linhas = df3['aggregate_rating']==min_rating\n",
    "df4 = df3.loc[linhas,:].sort_values(by='restaurant_id').reset_index()\n",
    "italian_food_worst_ranked = df4.loc[0,'restaurant_name']\n",
    "print(f\"O restaurante de culinária italiana pior avaliado é: {italian_food_worst_ranked}\")\n",
    "print(f\"Nota = {min_rating}\")\n"
   ]
  },
  {
   "attachments": {},
   "cell_type": "markdown",
   "metadata": {},
   "source": [
    "## 5.3. Dos restaurantes que possuem o tipo de culinária americana, qual o nome do restaurante com a maior média de avaliação?"
   ]
  },
  {
   "cell_type": "code",
   "execution_count": 174,
   "metadata": {},
   "outputs": [
    {
     "name": "stdout",
     "output_type": "stream",
     "text": [
      "O restaurante de culinária americana melhor avaliado é: Burger & Lobster\n",
      "Nota = 4.9\n"
     ]
    }
   ],
   "source": [
    "colunas = ['restaurant_id','restaurant_name','unique_cuisine','aggregate_rating']\n",
    "linhas = df1['unique_cuisine']=='American'\n",
    "df2 = df1.loc[linhas, colunas].sort_values(by='aggregate_rating', ascending=False).reset_index()\n",
    "max_rating = df2.loc[0,'aggregate_rating']\n",
    "linhas = df2['aggregate_rating']==max_rating\n",
    "df3 = df2.loc[linhas,:].sort_values(by='restaurant_id').reset_index()\n",
    "american_food_best_ranked = df3.loc[0,'restaurant_name']\n",
    "print(f\"O restaurante de culinária americana melhor avaliado é: {american_food_best_ranked}\")\n",
    "print(f\"Nota = {max_rating}\")"
   ]
  },
  {
   "attachments": {},
   "cell_type": "markdown",
   "metadata": {},
   "source": [
    "## 5.4. Dos restaurantes que possuem o tipo de culinária americana, qual o nome do restaurante com a menor média de avaliação?"
   ]
  },
  {
   "cell_type": "code",
   "execution_count": 177,
   "metadata": {},
   "outputs": [
    {
     "name": "stdout",
     "output_type": "stream",
     "text": [
      "O restaurante de culinária americana pior avaliado é: Alston Bar & Beef\n",
      "Nota = 0.0\n"
     ]
    }
   ],
   "source": [
    "colunas = ['restaurant_id','restaurant_name','unique_cuisine','aggregate_rating']\n",
    "linhas = df1['unique_cuisine']=='American'\n",
    "df2 = df1.loc[linhas, colunas].sort_values(by='aggregate_rating').reset_index()\n",
    "min_rating = df2.loc[0,'aggregate_rating']\n",
    "linhas = df2['aggregate_rating']==min_rating\n",
    "df3 = df2.loc[linhas,:].sort_values(by='restaurant_id').reset_index()\n",
    "american_food_worst_ranked = df3.loc[0,'restaurant_name']\n",
    "print(f\"O restaurante de culinária americana pior avaliado é: {american_food_worst_ranked}\")\n",
    "print(f\"Nota = {min_rating}\")"
   ]
  },
  {
   "attachments": {},
   "cell_type": "markdown",
   "metadata": {},
   "source": [
    "## 5.5. Dos restaurantes que possuem o tipo de culinária árabe, qual o nome do restaurante com a maior média de avaliação?"
   ]
  },
  {
   "cell_type": "code",
   "execution_count": 181,
   "metadata": {},
   "outputs": [
    {
     "name": "stdout",
     "output_type": "stream",
     "text": [
      "O restaurante de culinária americana melhor avaliado é: Mandi@36\n",
      "Nota = 4.7\n"
     ]
    }
   ],
   "source": [
    "colunas = ['restaurant_id','restaurant_name','unique_cuisine','aggregate_rating']\n",
    "linhas = df1['unique_cuisine']=='Arabian'\n",
    "df2 = df1.loc[linhas, colunas].sort_values(by='aggregate_rating', ascending=False).reset_index()\n",
    "max_rating = df2.loc[0,'aggregate_rating']\n",
    "linhas = df2['aggregate_rating']==max_rating\n",
    "df3 = df2.loc[linhas,:].sort_values(by='restaurant_id').reset_index()\n",
    "arabian_food_best_ranked = df3.loc[0,'restaurant_name']\n",
    "print(f\"O restaurante de culinária americana melhor avaliado é: {arabian_food_best_ranked}\")\n",
    "print(f\"Nota = {max_rating}\")"
   ]
  },
  {
   "attachments": {},
   "cell_type": "markdown",
   "metadata": {},
   "source": [
    "## 5.6. Dos restaurantes que possuem o tipo de culinária árabe, qual o nome do restaurante com a menor média de avaliação?"
   ]
  },
  {
   "cell_type": "code",
   "execution_count": 183,
   "metadata": {},
   "outputs": [
    {
     "name": "stdout",
     "output_type": "stream",
     "text": [
      "O restaurante de culinária americana pior avaliado é: Raful\n",
      "Nota = 0.0\n"
     ]
    }
   ],
   "source": [
    "colunas = ['restaurant_id','restaurant_name','unique_cuisine','aggregate_rating']\n",
    "linhas = df1['unique_cuisine']=='Arabian'\n",
    "df2 = df1.loc[linhas, colunas].sort_values(by='aggregate_rating').reset_index()\n",
    "min_rating = df2.loc[0,'aggregate_rating']\n",
    "linhas = df2['aggregate_rating']==min_rating\n",
    "df3 = df2.loc[linhas,:].sort_values(by='restaurant_id').reset_index()\n",
    "arabian_food_best_ranked = df3.loc[0,'restaurant_name']\n",
    "print(f\"O restaurante de culinária americana pior avaliado é: {arabian_food_best_ranked}\")\n",
    "print(f\"Nota = {min_rating}\")"
   ]
  },
  {
   "attachments": {},
   "cell_type": "markdown",
   "metadata": {},
   "source": [
    "## 5.7. Dos restaurantes que possuem o tipo de culinária japonesa, qual o nome do restaurante com a maior média de avaliação?"
   ]
  },
  {
   "cell_type": "code",
   "execution_count": 185,
   "metadata": {},
   "outputs": [
    {
     "name": "stdout",
     "output_type": "stream",
     "text": [
      "O restaurante de culinária japonesa melhor avaliado é: Sushi Samba\n",
      "Nota = 4.9\n"
     ]
    }
   ],
   "source": [
    "colunas = ['restaurant_id','restaurant_name','unique_cuisine','aggregate_rating']\n",
    "linhas = df1['unique_cuisine']=='Japanese'\n",
    "df2 = df1.loc[linhas, colunas].sort_values(by='aggregate_rating', ascending=False).reset_index()\n",
    "max_rating = df2.loc[0,'aggregate_rating']\n",
    "linhas = df2['aggregate_rating']==max_rating\n",
    "df3 = df2.loc[linhas,:].sort_values(by='restaurant_id').reset_index()\n",
    "japanese_food_best_ranked = df3.loc[0,'restaurant_name']\n",
    "print(f\"O restaurante de culinária japonesa melhor avaliado é: {japanese_food_best_ranked}\")\n",
    "print(f\"Nota = {max_rating}\")"
   ]
  },
  {
   "attachments": {},
   "cell_type": "markdown",
   "metadata": {},
   "source": [
    "## 5.8. Dos restaurantes que possuem o tipo de culinária japonesa, qual o nome do restaurante com a menor média de avaliação?"
   ]
  },
  {
   "cell_type": "code",
   "execution_count": 186,
   "metadata": {},
   "outputs": [
    {
     "name": "stdout",
     "output_type": "stream",
     "text": [
      "O restaurante de culinária japonesa pior avaliado é: Banzai Sushi\n",
      "Nota = 0.0\n"
     ]
    }
   ],
   "source": [
    "colunas = ['restaurant_id','restaurant_name','unique_cuisine','aggregate_rating']\n",
    "linhas = df1['unique_cuisine']=='Japanese'\n",
    "df2 = df1.loc[linhas, colunas].sort_values(by='aggregate_rating').reset_index()\n",
    "min_rating = df2.loc[0,'aggregate_rating']\n",
    "linhas = df2['aggregate_rating']==min_rating\n",
    "df3 = df2.loc[linhas,:].sort_values(by='restaurant_id').reset_index()\n",
    "japanese_food_worst_ranked = df3.loc[0,'restaurant_name']\n",
    "print(f\"O restaurante de culinária japonesa pior avaliado é: {japanese_food_worst_ranked}\")\n",
    "print(f\"Nota = {min_rating}\")"
   ]
  },
  {
   "attachments": {},
   "cell_type": "markdown",
   "metadata": {},
   "source": [
    "## 5.9. Dos restaurantes que possuem o tipo de culinária caseira, qual o nome do restaurante com a maior média de avaliação?"
   ]
  },
  {
   "cell_type": "code",
   "execution_count": 189,
   "metadata": {},
   "outputs": [
    {
     "name": "stdout",
     "output_type": "stream",
     "text": [
      "O restaurante de culinária caseira melhor avaliado é: Kanaat Lokantası\n",
      "Nota = 4.0\n"
     ]
    }
   ],
   "source": [
    "colunas = ['restaurant_id','restaurant_name','unique_cuisine','aggregate_rating']\n",
    "linhas = df1['unique_cuisine']=='Home-made'\n",
    "df2 = df1.loc[linhas, colunas].sort_values(by='aggregate_rating', ascending=False).reset_index()\n",
    "max_rating = df2.loc[0,'aggregate_rating']\n",
    "linhas = df2['aggregate_rating']==max_rating\n",
    "df3 = df2.loc[linhas,:].sort_values(by='restaurant_id').reset_index()\n",
    "homemade_food_best_ranked = df3.loc[0,'restaurant_name']\n",
    "print(f\"O restaurante de culinária caseira melhor avaliado é: {homemade_food_best_ranked}\")\n",
    "print(f\"Nota = {max_rating}\")"
   ]
  },
  {
   "attachments": {},
   "cell_type": "markdown",
   "metadata": {},
   "source": [
    "## 5.10. Dos restaurantes que possuem o tipo de culinária caseira, qual o nome do restaurante com a menor média de avaliação?"
   ]
  },
  {
   "cell_type": "code",
   "execution_count": 192,
   "metadata": {},
   "outputs": [
    {
     "name": "stdout",
     "output_type": "stream",
     "text": [
      "O restaurante de culinária caseira pior avaliado é: GurMekan Restaurant\n",
      "Nota = 3.7\n"
     ]
    }
   ],
   "source": [
    "colunas = ['restaurant_id','restaurant_name','unique_cuisine','aggregate_rating']\n",
    "linhas = df1['unique_cuisine']=='Home-made'\n",
    "df2 = df1.loc[linhas, colunas].sort_values(by='aggregate_rating').reset_index()\n",
    "min_rating = df2.loc[0,'aggregate_rating']\n",
    "linhas = df2['aggregate_rating']==min_rating\n",
    "df3 = df2.loc[linhas,:].sort_values(by='restaurant_id').reset_index()\n",
    "homemade_food_worst_ranked = df3.loc[0,'restaurant_name']\n",
    "print(f\"O restaurante de culinária caseira pior avaliado é: {homemade_food_worst_ranked}\")\n",
    "print(f\"Nota = {min_rating}\")"
   ]
  },
  {
   "attachments": {},
   "cell_type": "markdown",
   "metadata": {},
   "source": [
    "## 5.11. Qual o tipo de culinária que possui o maior valor médio de um prato para duas pessoas?"
   ]
  },
  {
   "cell_type": "code",
   "execution_count": 197,
   "metadata": {},
   "outputs": [
    {
     "name": "stdout",
     "output_type": "stream",
     "text": [
      "O tipo de culinária com maior preço para duas pessoas é: Modern Australian\n"
     ]
    }
   ],
   "source": [
    "colunas = ['unique_cuisine','average_cost_for_two']\n",
    "df2 = df1.loc[:, colunas].groupby('unique_cuisine').mean().sort_values(by='average_cost_for_two', ascending=False).reset_index()\n",
    "cuisine_more_expensive_for2 = df2.loc[0, 'unique_cuisine']\n",
    "print(f\"O tipo de culinária com maior preço para duas pessoas é: {cuisine_more_expensive_for2}\")"
   ]
  },
  {
   "attachments": {},
   "cell_type": "markdown",
   "metadata": {},
   "source": [
    "## 5.12. Qual o tipo de culinária que possui a maior nota média?"
   ]
  },
  {
   "cell_type": "code",
   "execution_count": 199,
   "metadata": {},
   "outputs": [
    {
     "name": "stdout",
     "output_type": "stream",
     "text": [
      "O tipo de culinária com maior preço para duas pessoas é: Others\n"
     ]
    },
    {
     "data": {
      "text/html": [
       "<div>\n",
       "<style scoped>\n",
       "    .dataframe tbody tr th:only-of-type {\n",
       "        vertical-align: middle;\n",
       "    }\n",
       "\n",
       "    .dataframe tbody tr th {\n",
       "        vertical-align: top;\n",
       "    }\n",
       "\n",
       "    .dataframe thead th {\n",
       "        text-align: right;\n",
       "    }\n",
       "</style>\n",
       "<table border=\"1\" class=\"dataframe\">\n",
       "  <thead>\n",
       "    <tr style=\"text-align: right;\">\n",
       "      <th></th>\n",
       "      <th>unique_cuisine</th>\n",
       "      <th>aggregate_rating</th>\n",
       "    </tr>\n",
       "  </thead>\n",
       "  <tbody>\n",
       "    <tr>\n",
       "      <th>0</th>\n",
       "      <td>Others</td>\n",
       "      <td>4.900000</td>\n",
       "    </tr>\n",
       "    <tr>\n",
       "      <th>1</th>\n",
       "      <td>Ramen</td>\n",
       "      <td>4.800000</td>\n",
       "    </tr>\n",
       "    <tr>\n",
       "      <th>2</th>\n",
       "      <td>Egyptian</td>\n",
       "      <td>4.800000</td>\n",
       "    </tr>\n",
       "    <tr>\n",
       "      <th>3</th>\n",
       "      <td>Ottoman</td>\n",
       "      <td>4.800000</td>\n",
       "    </tr>\n",
       "    <tr>\n",
       "      <th>4</th>\n",
       "      <td>Fresh Fish</td>\n",
       "      <td>4.750000</td>\n",
       "    </tr>\n",
       "    <tr>\n",
       "      <th>...</th>\n",
       "      <td>...</td>\n",
       "      <td>...</td>\n",
       "    </tr>\n",
       "    <tr>\n",
       "      <th>161</th>\n",
       "      <td>Bengali</td>\n",
       "      <td>2.133333</td>\n",
       "    </tr>\n",
       "    <tr>\n",
       "      <th>162</th>\n",
       "      <td>Afghan</td>\n",
       "      <td>2.050000</td>\n",
       "    </tr>\n",
       "    <tr>\n",
       "      <th>163</th>\n",
       "      <td></td>\n",
       "      <td>1.807692</td>\n",
       "    </tr>\n",
       "    <tr>\n",
       "      <th>164</th>\n",
       "      <td>Drinks Only</td>\n",
       "      <td>0.000000</td>\n",
       "    </tr>\n",
       "    <tr>\n",
       "      <th>165</th>\n",
       "      <td>Mineira</td>\n",
       "      <td>0.000000</td>\n",
       "    </tr>\n",
       "  </tbody>\n",
       "</table>\n",
       "<p>166 rows × 2 columns</p>\n",
       "</div>"
      ],
      "text/plain": [
       "    unique_cuisine  aggregate_rating\n",
       "0           Others          4.900000\n",
       "1            Ramen          4.800000\n",
       "2         Egyptian          4.800000\n",
       "3          Ottoman          4.800000\n",
       "4       Fresh Fish          4.750000\n",
       "..             ...               ...\n",
       "161        Bengali          2.133333\n",
       "162         Afghan          2.050000\n",
       "163                         1.807692\n",
       "164    Drinks Only          0.000000\n",
       "165        Mineira          0.000000\n",
       "\n",
       "[166 rows x 2 columns]"
      ]
     },
     "execution_count": 199,
     "metadata": {},
     "output_type": "execute_result"
    }
   ],
   "source": [
    "colunas = ['unique_cuisine','aggregate_rating']\n",
    "df2 = df1.loc[:, colunas].groupby('unique_cuisine').mean().sort_values(by='aggregate_rating', ascending=False).reset_index()\n",
    "cuisine_best_ranked = df2.loc[0, 'unique_cuisine']\n",
    "print(f\"O tipo de culinária com maior preço para duas pessoas é: {cuisine_best_ranked}\")"
   ]
  },
  {
   "attachments": {},
   "cell_type": "markdown",
   "metadata": {},
   "source": [
    "## 5.13. Qual o tipo de culinária que possui mais restaurantes que aceitam pedidos online e fazem entregas?"
   ]
  },
  {
   "cell_type": "code",
   "execution_count": 203,
   "metadata": {},
   "outputs": [
    {
     "name": "stdout",
     "output_type": "stream",
     "text": [
      "O tipo de culinária com mais restaurantes que aceitam pedidos online e fazem entregas é: North Indian\n"
     ]
    }
   ],
   "source": [
    "#   Has Table booking   : int, values = [ 0, 1 ]\n",
    "#   Has Online delivery : int, values = [ 0, 1 ]\n",
    "#   Is delivering now   : int, values = [ 0, 1 ]\n",
    "colunas = ['unique_cuisine','restaurant_id']\n",
    "linhas = (df1['has_online_delivery']==1) & (df1['is_delivering_now']==1)\n",
    "df2 = df1.loc[linhas, colunas].groupby('unique_cuisine').count().sort_values(by='restaurant_id', ascending=False).reset_index()\n",
    "cuisine_more_rest_with_acept_delivery_and_deliver = df2.loc[0, 'unique_cuisine']\n",
    "print(f\"O tipo de culinária com mais restaurantes que aceitam pedidos online e fazem entregas é: {cuisine_more_rest_with_acept_delivery_and_deliver}\")"
   ]
  },
  {
   "attachments": {},
   "cell_type": "markdown",
   "metadata": {},
   "source": [
    "## 5.14. Quais os TOP 10 restaurantes?"
   ]
  },
  {
   "cell_type": "code",
   "execution_count": 27,
   "metadata": {},
   "outputs": [
    {
     "data": {
      "text/html": [
       "<div>\n",
       "<style scoped>\n",
       "    .dataframe tbody tr th:only-of-type {\n",
       "        vertical-align: middle;\n",
       "    }\n",
       "\n",
       "    .dataframe tbody tr th {\n",
       "        vertical-align: top;\n",
       "    }\n",
       "\n",
       "    .dataframe thead th {\n",
       "        text-align: right;\n",
       "    }\n",
       "</style>\n",
       "<table border=\"1\" class=\"dataframe\">\n",
       "  <thead>\n",
       "    <tr style=\"text-align: right;\">\n",
       "      <th></th>\n",
       "      <th>index</th>\n",
       "      <th>restaurant_id</th>\n",
       "      <th>restaurant_name</th>\n",
       "      <th>country_name</th>\n",
       "      <th>city</th>\n",
       "      <th>unique_cuisine</th>\n",
       "      <th>aggregate_rating</th>\n",
       "    </tr>\n",
       "  </thead>\n",
       "  <tbody>\n",
       "    <tr>\n",
       "      <th>0</th>\n",
       "      <td>3766</td>\n",
       "      <td>7528</td>\n",
       "      <td>Indian Grill Room</td>\n",
       "      <td>India</td>\n",
       "      <td>Gurgaon</td>\n",
       "      <td>North Indian</td>\n",
       "      <td>4.9</td>\n",
       "    </tr>\n",
       "    <tr>\n",
       "      <th>1</th>\n",
       "      <td>3758</td>\n",
       "      <td>8913</td>\n",
       "      <td>Pirates of Grill</td>\n",
       "      <td>India</td>\n",
       "      <td>Gurgaon</td>\n",
       "      <td>North Indian</td>\n",
       "      <td>4.9</td>\n",
       "    </tr>\n",
       "    <tr>\n",
       "      <th>2</th>\n",
       "      <td>5408</td>\n",
       "      <td>10021</td>\n",
       "      <td>Darshan</td>\n",
       "      <td>India</td>\n",
       "      <td>Pune</td>\n",
       "      <td>Italian</td>\n",
       "      <td>4.9</td>\n",
       "    </tr>\n",
       "    <tr>\n",
       "      <th>3</th>\n",
       "      <td>4362</td>\n",
       "      <td>20842</td>\n",
       "      <td>Barbeque Nation</td>\n",
       "      <td>India</td>\n",
       "      <td>Kolkata</td>\n",
       "      <td>North Indian</td>\n",
       "      <td>4.9</td>\n",
       "    </tr>\n",
       "    <tr>\n",
       "      <th>4</th>\n",
       "      <td>3018</td>\n",
       "      <td>56618</td>\n",
       "      <td>AB's - Absolute Barbecues</td>\n",
       "      <td>India</td>\n",
       "      <td>Bangalore</td>\n",
       "      <td>European</td>\n",
       "      <td>4.9</td>\n",
       "    </tr>\n",
       "    <tr>\n",
       "      <th>5</th>\n",
       "      <td>3038</td>\n",
       "      <td>58882</td>\n",
       "      <td>Byg Brewski Brewing Company</td>\n",
       "      <td>India</td>\n",
       "      <td>Bangalore</td>\n",
       "      <td>Continental</td>\n",
       "      <td>4.9</td>\n",
       "    </tr>\n",
       "    <tr>\n",
       "      <th>6</th>\n",
       "      <td>3369</td>\n",
       "      <td>70856</td>\n",
       "      <td>AB's - Absolute Barbecues</td>\n",
       "      <td>India</td>\n",
       "      <td>Chennai</td>\n",
       "      <td>BBQ</td>\n",
       "      <td>4.9</td>\n",
       "    </tr>\n",
       "    <tr>\n",
       "      <th>7</th>\n",
       "      <td>7224</td>\n",
       "      <td>75989</td>\n",
       "      <td>Restaurant Mosaic @ The Orient</td>\n",
       "      <td>South Africa</td>\n",
       "      <td>Pretoria</td>\n",
       "      <td>French</td>\n",
       "      <td>4.9</td>\n",
       "    </tr>\n",
       "    <tr>\n",
       "      <th>8</th>\n",
       "      <td>4037</td>\n",
       "      <td>101212</td>\n",
       "      <td>Tapri Central</td>\n",
       "      <td>India</td>\n",
       "      <td>Jaipur</td>\n",
       "      <td>Cafe</td>\n",
       "      <td>4.9</td>\n",
       "    </tr>\n",
       "    <tr>\n",
       "      <th>9</th>\n",
       "      <td>2683</td>\n",
       "      <td>111826</td>\n",
       "      <td>Yanki Sizzlers</td>\n",
       "      <td>India</td>\n",
       "      <td>Ahmedabad</td>\n",
       "      <td>Continental</td>\n",
       "      <td>4.9</td>\n",
       "    </tr>\n",
       "    <tr>\n",
       "      <th>10</th>\n",
       "      <td>3236</td>\n",
       "      <td>121316</td>\n",
       "      <td>Nando's</td>\n",
       "      <td>India</td>\n",
       "      <td>Chandigarh</td>\n",
       "      <td>Portuguese</td>\n",
       "      <td>4.9</td>\n",
       "    </tr>\n",
       "    <tr>\n",
       "      <th>11</th>\n",
       "      <td>3698</td>\n",
       "      <td>130664</td>\n",
       "      <td>Pousada By The Beach</td>\n",
       "      <td>India</td>\n",
       "      <td>Goa</td>\n",
       "      <td>Continental</td>\n",
       "      <td>4.9</td>\n",
       "    </tr>\n",
       "    <tr>\n",
       "      <th>12</th>\n",
       "      <td>2323</td>\n",
       "      <td>203518</td>\n",
       "      <td>The Huddle Sports Bar and Grill - Citymax Hote...</td>\n",
       "      <td>United Arab Emirates</td>\n",
       "      <td>Dubai</td>\n",
       "      <td>Steak</td>\n",
       "      <td>4.9</td>\n",
       "    </tr>\n",
       "    <tr>\n",
       "      <th>13</th>\n",
       "      <td>2330</td>\n",
       "      <td>207770</td>\n",
       "      <td>Mint Leaf of London</td>\n",
       "      <td>United Arab Emirates</td>\n",
       "      <td>Dubai</td>\n",
       "      <td>Indian</td>\n",
       "      <td>4.9</td>\n",
       "    </tr>\n",
       "    <tr>\n",
       "      <th>14</th>\n",
       "      <td>4476</td>\n",
       "      <td>800089</td>\n",
       "      <td>Barbeque Nation</td>\n",
       "      <td>India</td>\n",
       "      <td>Lucknow</td>\n",
       "      <td>North Indian</td>\n",
       "      <td>4.9</td>\n",
       "    </tr>\n",
       "    <tr>\n",
       "      <th>15</th>\n",
       "      <td>4469</td>\n",
       "      <td>800466</td>\n",
       "      <td>Sharma Ji Ki Chai</td>\n",
       "      <td>India</td>\n",
       "      <td>Lucknow</td>\n",
       "      <td>Street Food</td>\n",
       "      <td>4.9</td>\n",
       "    </tr>\n",
       "    <tr>\n",
       "      <th>16</th>\n",
       "      <td>4231</td>\n",
       "      <td>900969</td>\n",
       "      <td>Barbeque Nation</td>\n",
       "      <td>India</td>\n",
       "      <td>Kochi</td>\n",
       "      <td>European</td>\n",
       "      <td>4.9</td>\n",
       "    </tr>\n",
       "    <tr>\n",
       "      <th>17</th>\n",
       "      <td>4001</td>\n",
       "      <td>1400177</td>\n",
       "      <td>Kebabsville - Sayaji Hotel</td>\n",
       "      <td>India</td>\n",
       "      <td>Indore</td>\n",
       "      <td>North Indian</td>\n",
       "      <td>4.9</td>\n",
       "    </tr>\n",
       "    <tr>\n",
       "      <th>18</th>\n",
       "      <td>5021</td>\n",
       "      <td>1600500</td>\n",
       "      <td>The Sidewalk</td>\n",
       "      <td>India</td>\n",
       "      <td>Nashik</td>\n",
       "      <td>Continental</td>\n",
       "      <td>4.9</td>\n",
       "    </tr>\n",
       "    <tr>\n",
       "      <th>19</th>\n",
       "      <td>3827</td>\n",
       "      <td>2100702</td>\n",
       "      <td>Barbeque Nation</td>\n",
       "      <td>India</td>\n",
       "      <td>Guwahati</td>\n",
       "      <td>North Indian</td>\n",
       "      <td>4.9</td>\n",
       "    </tr>\n",
       "  </tbody>\n",
       "</table>\n",
       "</div>"
      ],
      "text/plain": [
       "    index  restaurant_id                                    restaurant_name  \\\n",
       "0    3766           7528                                  Indian Grill Room   \n",
       "1    3758           8913                                   Pirates of Grill   \n",
       "2    5408          10021                                            Darshan   \n",
       "3    4362          20842                                    Barbeque Nation   \n",
       "4    3018          56618                          AB's - Absolute Barbecues   \n",
       "5    3038          58882                        Byg Brewski Brewing Company   \n",
       "6    3369          70856                          AB's - Absolute Barbecues   \n",
       "7    7224          75989                     Restaurant Mosaic @ The Orient   \n",
       "8    4037         101212                                      Tapri Central   \n",
       "9    2683         111826                                     Yanki Sizzlers   \n",
       "10   3236         121316                                            Nando's   \n",
       "11   3698         130664                               Pousada By The Beach   \n",
       "12   2323         203518  The Huddle Sports Bar and Grill - Citymax Hote...   \n",
       "13   2330         207770                                Mint Leaf of London   \n",
       "14   4476         800089                                    Barbeque Nation   \n",
       "15   4469         800466                                  Sharma Ji Ki Chai   \n",
       "16   4231         900969                                    Barbeque Nation   \n",
       "17   4001        1400177                         Kebabsville - Sayaji Hotel   \n",
       "18   5021        1600500                                       The Sidewalk   \n",
       "19   3827        2100702                                    Barbeque Nation   \n",
       "\n",
       "            country_name        city unique_cuisine  aggregate_rating  \n",
       "0                  India     Gurgaon   North Indian               4.9  \n",
       "1                  India     Gurgaon   North Indian               4.9  \n",
       "2                  India        Pune        Italian               4.9  \n",
       "3                  India     Kolkata   North Indian               4.9  \n",
       "4                  India   Bangalore       European               4.9  \n",
       "5                  India   Bangalore    Continental               4.9  \n",
       "6                  India     Chennai            BBQ               4.9  \n",
       "7           South Africa    Pretoria         French               4.9  \n",
       "8                  India      Jaipur           Cafe               4.9  \n",
       "9                  India   Ahmedabad    Continental               4.9  \n",
       "10                 India  Chandigarh     Portuguese               4.9  \n",
       "11                 India         Goa    Continental               4.9  \n",
       "12  United Arab Emirates       Dubai          Steak               4.9  \n",
       "13  United Arab Emirates       Dubai         Indian               4.9  \n",
       "14                 India     Lucknow   North Indian               4.9  \n",
       "15                 India     Lucknow    Street Food               4.9  \n",
       "16                 India       Kochi       European               4.9  \n",
       "17                 India      Indore   North Indian               4.9  \n",
       "18                 India      Nashik    Continental               4.9  \n",
       "19                 India    Guwahati   North Indian               4.9  "
      ]
     },
     "execution_count": 27,
     "metadata": {},
     "output_type": "execute_result"
    }
   ],
   "source": [
    "colunas = ['restaurant_id','restaurant_name','country_name','city','unique_cuisine','aggregate_rating']\n",
    "\n",
    "df3 = df1.loc[:,colunas].copy()\n",
    "df3['restaurant_id'] = -df3['restaurant_id']\n",
    "df4 = ( df3.loc[:, :]\n",
    "           .sort_values(by=['aggregate_rating','restaurant_id'], ascending=False)\n",
    "           .reset_index()\n",
    "      )\n",
    "df4['restaurant_id'] = -df4['restaurant_id']\n",
    "df4.head(20)\n"
   ]
  },
  {
   "attachments": {},
   "cell_type": "markdown",
   "metadata": {},
   "source": [
    "## 5.15. Lista todos os tipos de culinárias"
   ]
  },
  {
   "cell_type": "code",
   "execution_count": 8,
   "metadata": {},
   "outputs": [
    {
     "data": {
      "text/plain": [
       "['Afghan',\n",
       " 'African',\n",
       " 'American',\n",
       " 'Andhra',\n",
       " 'Arabian',\n",
       " 'Argentine',\n",
       " 'Armenian',\n",
       " 'Asian',\n",
       " 'Asian Fusion',\n",
       " 'Assamese',\n",
       " 'Australian',\n",
       " 'Author',\n",
       " 'Awadhi',\n",
       " 'BBQ',\n",
       " 'Bakery',\n",
       " 'Balti',\n",
       " 'Bar Food',\n",
       " 'Belgian',\n",
       " 'Bengali',\n",
       " 'Beverages',\n",
       " 'Biryani',\n",
       " 'Brazilian',\n",
       " 'Breakfast',\n",
       " 'British',\n",
       " 'Burger',\n",
       " 'Burmese',\n",
       " 'Cafe',\n",
       " 'Cafe Food',\n",
       " 'Cajun',\n",
       " 'California',\n",
       " 'Canadian',\n",
       " 'Cantonese',\n",
       " 'Caribbean',\n",
       " 'Charcoal Chicken',\n",
       " 'Chettinad',\n",
       " 'Chinese',\n",
       " 'Coffee',\n",
       " 'Coffee and Tea',\n",
       " 'Contemporary',\n",
       " 'Continental',\n",
       " 'Creole',\n",
       " 'Crepes',\n",
       " 'Cuban',\n",
       " 'Deli',\n",
       " 'Desserts',\n",
       " 'Dim Sum',\n",
       " 'Dimsum',\n",
       " 'Diner',\n",
       " 'Donuts',\n",
       " 'Drinks Only',\n",
       " 'Durban',\n",
       " 'Döner',\n",
       " 'Eastern European',\n",
       " 'Egyptian',\n",
       " 'European',\n",
       " 'Fast Food',\n",
       " 'Filipino',\n",
       " 'Finger Food',\n",
       " 'Fish and Chips',\n",
       " 'French',\n",
       " 'Fresh Fish',\n",
       " 'Fusion',\n",
       " 'German',\n",
       " 'Giblets',\n",
       " 'Goan',\n",
       " 'Gourmet Fast Food',\n",
       " 'Greek',\n",
       " 'Grill',\n",
       " 'Gujarati',\n",
       " 'Hawaiian',\n",
       " 'Healthy Food',\n",
       " 'Home-made',\n",
       " 'Hyderabadi',\n",
       " 'Ice Cream',\n",
       " 'Indian',\n",
       " 'Indonesian',\n",
       " 'International',\n",
       " 'Iranian',\n",
       " 'Irish',\n",
       " 'Italian',\n",
       " 'Izgara',\n",
       " 'Japanese',\n",
       " 'Juices',\n",
       " 'Kebab',\n",
       " 'Kerala',\n",
       " 'Khaleeji',\n",
       " 'Kiwi',\n",
       " 'Kokoreç',\n",
       " 'Korean',\n",
       " 'Korean BBQ',\n",
       " 'Kumpir',\n",
       " 'Latin American',\n",
       " 'Lebanese',\n",
       " 'Lucknowi',\n",
       " 'Maharashtrian',\n",
       " 'Malaysian',\n",
       " 'Malwani',\n",
       " 'Mandi',\n",
       " 'Mangalorean',\n",
       " 'Mediterranean',\n",
       " 'Mexican',\n",
       " 'Middle Eastern',\n",
       " 'Mineira',\n",
       " 'Mithai',\n",
       " 'Modern Australian',\n",
       " 'Modern Indian',\n",
       " 'Momos',\n",
       " 'Mongolian',\n",
       " 'Moroccan',\n",
       " 'Mughlai',\n",
       " 'Naga',\n",
       " 'Nepalese',\n",
       " 'New American',\n",
       " 'New Mexican',\n",
       " 'North Eastern',\n",
       " 'North Indian',\n",
       " 'Old Turkish Bars',\n",
       " 'Others',\n",
       " 'Ottoman',\n",
       " 'Pacific Northwest',\n",
       " 'Pakistani',\n",
       " 'Pan Asian',\n",
       " 'Parsi',\n",
       " 'Patisserie',\n",
       " 'Peruvian',\n",
       " 'Pizza',\n",
       " 'Polish',\n",
       " 'Portuguese',\n",
       " 'Pub Food',\n",
       " 'Rajasthani',\n",
       " 'Ramen',\n",
       " 'Restaurant Cafe',\n",
       " 'Roast Chicken',\n",
       " 'Rolls',\n",
       " 'Russian',\n",
       " 'Salad',\n",
       " 'Sandwich',\n",
       " 'Scottish',\n",
       " 'Seafood',\n",
       " 'Singaporean',\n",
       " 'South African',\n",
       " 'South Indian',\n",
       " 'Southern',\n",
       " 'Southwestern',\n",
       " 'Spanish',\n",
       " 'Sri Lankan',\n",
       " 'Steak',\n",
       " 'Street Food',\n",
       " 'Sunda',\n",
       " 'Sushi',\n",
       " 'Taco',\n",
       " 'Taiwanese',\n",
       " 'Tapas',\n",
       " 'Tea',\n",
       " 'Tex-Mex',\n",
       " 'Thai',\n",
       " 'Tibetan',\n",
       " 'Turkish',\n",
       " 'Turkish Pizza',\n",
       " 'Ukrainian',\n",
       " 'Vegetarian',\n",
       " 'Vietnamese',\n",
       " 'Western',\n",
       " 'World Cuisine',\n",
       " 'Yum Cha']"
      ]
     },
     "execution_count": 8,
     "metadata": {},
     "output_type": "execute_result"
    }
   ],
   "source": [
    "linhas = df1['unique_cuisine'] != ''\n",
    "df2 = df1.loc[linhas, :].copy()\n",
    "\n",
    "all_items = df2['unique_cuisine'].unique().tolist()\n",
    "all_items.sort()\n",
    "all_items"
   ]
  }
 ],
 "metadata": {
  "kernelspec": {
   "display_name": "curso_ftc",
   "language": "python",
   "name": "python3"
  },
  "language_info": {
   "codemirror_mode": {
    "name": "ipython",
    "version": 3
   },
   "file_extension": ".py",
   "mimetype": "text/x-python",
   "name": "python",
   "nbconvert_exporter": "python",
   "pygments_lexer": "ipython3",
   "version": "3.10.11"
  },
  "orig_nbformat": 4
 },
 "nbformat": 4,
 "nbformat_minor": 2
}
